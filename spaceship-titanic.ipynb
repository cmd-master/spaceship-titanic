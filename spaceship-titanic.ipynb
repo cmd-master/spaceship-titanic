{
 "cells": [
  {
   "cell_type": "markdown",
   "id": "1c0d5e89",
   "metadata": {
    "papermill": {
     "duration": 0.011796,
     "end_time": "2024-05-08T00:22:32.507620",
     "exception": false,
     "start_time": "2024-05-08T00:22:32.495824",
     "status": "completed"
    },
    "tags": []
   },
   "source": [
    "# 🤔Summary\n",
    "**Introduction:** Passenger in a spaceship traveling to some distant planet in the future. There was an incident that transported some of the passengers to a different reality.\n",
    "\n",
    "**Problem:** What is the cause of the incident?\n",
    "\n",
    "**Hypothesis:** If we can pinpoint shared traits among survivors and casualties, we'll clarify the incident's cause and solve the mystery.\n",
    "\n",
    "**Goal:** To predict probability of survival of each passengers.\n",
    "\n",
    "---\n",
    "[kaggle](https://www.kaggle.com/code/fiftythirtyfour/spaceship-titanic)"
   ]
  },
  {
   "cell_type": "markdown",
   "id": "4e955f7b",
   "metadata": {
    "papermill": {
     "duration": 0.010971,
     "end_time": "2024-05-08T00:22:32.530318",
     "exception": false,
     "start_time": "2024-05-08T00:22:32.519347",
     "status": "completed"
    },
    "tags": []
   },
   "source": [
    "## What I know so far...\n",
    "- People in Cryo-Sleep were most likely transported.\n",
    "- Rich people who used Roomservice, VRDeck and Spa were less likely to be transported."
   ]
  },
  {
   "cell_type": "code",
   "execution_count": 1,
   "id": "ed8926d8",
   "metadata": {
    "execution": {
     "iopub.execute_input": "2024-05-08T00:22:32.555249Z",
     "iopub.status.busy": "2024-05-08T00:22:32.554845Z",
     "iopub.status.idle": "2024-05-08T00:22:35.178409Z",
     "shell.execute_reply": "2024-05-08T00:22:35.177268Z"
    },
    "papermill": {
     "duration": 2.639301,
     "end_time": "2024-05-08T00:22:35.181319",
     "exception": false,
     "start_time": "2024-05-08T00:22:32.542018",
     "status": "completed"
    },
    "tags": []
   },
   "outputs": [],
   "source": [
    "import pandas as pd\n",
    "import numpy as np\n",
    "import seaborn as sns\n",
    "\n",
    "pd.options.display.max_rows = 300\n",
    "pd.options.display.max_columns = 300\n",
    "\n",
    "## Load\n",
    "df = pd.read_csv('/kaggle/input/spaceship-titanic/train.csv')\n",
    "\n",
    "## Cleaning\n",
    "df['group_id'] = df['PassengerId'].transform(lambda x: x.split('_')[1]) ## Group ID found in the PassengerId\n",
    "\n",
    "## Organize Columns\n",
    "target = 'Transported' ### What we are trying to predict.\n",
    "num = [x for x in df.columns if df.dtypes[x] in ['float64']]\n",
    "cat = [x for x in df.columns if df.dtypes[x] == 'object']\n",
    "cat.remove('PassengerId')"
   ]
  },
  {
   "cell_type": "code",
   "execution_count": 2,
   "id": "e2791640",
   "metadata": {
    "execution": {
     "iopub.execute_input": "2024-05-08T00:22:35.205718Z",
     "iopub.status.busy": "2024-05-08T00:22:35.205292Z",
     "iopub.status.idle": "2024-05-08T00:22:35.621597Z",
     "shell.execute_reply": "2024-05-08T00:22:35.620344Z"
    },
    "papermill": {
     "duration": 0.431652,
     "end_time": "2024-05-08T00:22:35.624417",
     "exception": false,
     "start_time": "2024-05-08T00:22:35.192765",
     "status": "completed"
    },
    "tags": []
   },
   "outputs": [],
   "source": [
    "## Train Test Split by group\n",
    "from sklearn.model_selection import StratifiedShuffleSplit\n",
    "split = StratifiedShuffleSplit(n_splits=1, test_size=.2, random_state=0)\n",
    "for tr_idx, te_idx in split.split(df, df['group_id']):\n",
    "    train = df.loc[tr_idx]\n",
    "    test = df.loc[te_idx]"
   ]
  },
  {
   "cell_type": "code",
   "execution_count": 3,
   "id": "bd371b13",
   "metadata": {
    "execution": {
     "iopub.execute_input": "2024-05-08T00:22:35.648807Z",
     "iopub.status.busy": "2024-05-08T00:22:35.648383Z",
     "iopub.status.idle": "2024-05-08T00:22:35.680141Z",
     "shell.execute_reply": "2024-05-08T00:22:35.679261Z"
    },
    "papermill": {
     "duration": 0.046956,
     "end_time": "2024-05-08T00:22:35.682604",
     "exception": false,
     "start_time": "2024-05-08T00:22:35.635648",
     "status": "completed"
    },
    "tags": []
   },
   "outputs": [
    {
     "data": {
      "text/html": [
       "<div>\n",
       "<style scoped>\n",
       "    .dataframe tbody tr th:only-of-type {\n",
       "        vertical-align: middle;\n",
       "    }\n",
       "\n",
       "    .dataframe tbody tr th {\n",
       "        vertical-align: top;\n",
       "    }\n",
       "\n",
       "    .dataframe thead th {\n",
       "        text-align: right;\n",
       "    }\n",
       "</style>\n",
       "<table border=\"1\" class=\"dataframe\">\n",
       "  <thead>\n",
       "    <tr style=\"text-align: right;\">\n",
       "      <th></th>\n",
       "      <th>PassengerId</th>\n",
       "      <th>HomePlanet</th>\n",
       "      <th>CryoSleep</th>\n",
       "      <th>Cabin</th>\n",
       "      <th>Destination</th>\n",
       "      <th>Age</th>\n",
       "      <th>VIP</th>\n",
       "      <th>RoomService</th>\n",
       "      <th>FoodCourt</th>\n",
       "      <th>ShoppingMall</th>\n",
       "      <th>Spa</th>\n",
       "      <th>VRDeck</th>\n",
       "      <th>Name</th>\n",
       "      <th>Transported</th>\n",
       "      <th>group_id</th>\n",
       "    </tr>\n",
       "  </thead>\n",
       "  <tbody>\n",
       "    <tr>\n",
       "      <th>5826</th>\n",
       "      <td>6168_02</td>\n",
       "      <td>Earth</td>\n",
       "      <td>False</td>\n",
       "      <td>G/999/S</td>\n",
       "      <td>55 Cancri e</td>\n",
       "      <td>12.0</td>\n",
       "      <td>False</td>\n",
       "      <td>0.0</td>\n",
       "      <td>0.0</td>\n",
       "      <td>0.0</td>\n",
       "      <td>0.0</td>\n",
       "      <td>0.0</td>\n",
       "      <td>Glenna Gordond</td>\n",
       "      <td>True</td>\n",
       "      <td>02</td>\n",
       "    </tr>\n",
       "    <tr>\n",
       "      <th>6832</th>\n",
       "      <td>7219_03</td>\n",
       "      <td>Europa</td>\n",
       "      <td>True</td>\n",
       "      <td>C/235/P</td>\n",
       "      <td>TRAPPIST-1e</td>\n",
       "      <td>64.0</td>\n",
       "      <td>False</td>\n",
       "      <td>0.0</td>\n",
       "      <td>0.0</td>\n",
       "      <td>0.0</td>\n",
       "      <td>0.0</td>\n",
       "      <td>0.0</td>\n",
       "      <td>Dirk Arible</td>\n",
       "      <td>True</td>\n",
       "      <td>03</td>\n",
       "    </tr>\n",
       "    <tr>\n",
       "      <th>8588</th>\n",
       "      <td>9168_01</td>\n",
       "      <td>Europa</td>\n",
       "      <td>False</td>\n",
       "      <td>C/338/S</td>\n",
       "      <td>55 Cancri e</td>\n",
       "      <td>36.0</td>\n",
       "      <td>False</td>\n",
       "      <td>23.0</td>\n",
       "      <td>14773.0</td>\n",
       "      <td>0.0</td>\n",
       "      <td>1159.0</td>\n",
       "      <td>7819.0</td>\n",
       "      <td>Hadirk Cassiding</td>\n",
       "      <td>False</td>\n",
       "      <td>01</td>\n",
       "    </tr>\n",
       "    <tr>\n",
       "      <th>1374</th>\n",
       "      <td>1450_01</td>\n",
       "      <td>Europa</td>\n",
       "      <td>True</td>\n",
       "      <td>D/53/S</td>\n",
       "      <td>55 Cancri e</td>\n",
       "      <td>43.0</td>\n",
       "      <td>False</td>\n",
       "      <td>0.0</td>\n",
       "      <td>0.0</td>\n",
       "      <td>0.0</td>\n",
       "      <td>0.0</td>\n",
       "      <td>0.0</td>\n",
       "      <td>Tabih Ailled</td>\n",
       "      <td>True</td>\n",
       "      <td>01</td>\n",
       "    </tr>\n",
       "    <tr>\n",
       "      <th>3242</th>\n",
       "      <td>3485_02</td>\n",
       "      <td>Europa</td>\n",
       "      <td>True</td>\n",
       "      <td>E/237/S</td>\n",
       "      <td>TRAPPIST-1e</td>\n",
       "      <td>24.0</td>\n",
       "      <td>False</td>\n",
       "      <td>0.0</td>\n",
       "      <td>0.0</td>\n",
       "      <td>0.0</td>\n",
       "      <td>0.0</td>\n",
       "      <td>0.0</td>\n",
       "      <td>Ankabih Tradve</td>\n",
       "      <td>True</td>\n",
       "      <td>02</td>\n",
       "    </tr>\n",
       "  </tbody>\n",
       "</table>\n",
       "</div>"
      ],
      "text/plain": [
       "     PassengerId HomePlanet CryoSleep    Cabin  Destination   Age    VIP  \\\n",
       "5826     6168_02      Earth     False  G/999/S  55 Cancri e  12.0  False   \n",
       "6832     7219_03     Europa      True  C/235/P  TRAPPIST-1e  64.0  False   \n",
       "8588     9168_01     Europa     False  C/338/S  55 Cancri e  36.0  False   \n",
       "1374     1450_01     Europa      True   D/53/S  55 Cancri e  43.0  False   \n",
       "3242     3485_02     Europa      True  E/237/S  TRAPPIST-1e  24.0  False   \n",
       "\n",
       "      RoomService  FoodCourt  ShoppingMall     Spa  VRDeck              Name  \\\n",
       "5826          0.0        0.0           0.0     0.0     0.0    Glenna Gordond   \n",
       "6832          0.0        0.0           0.0     0.0     0.0       Dirk Arible   \n",
       "8588         23.0    14773.0           0.0  1159.0  7819.0  Hadirk Cassiding   \n",
       "1374          0.0        0.0           0.0     0.0     0.0      Tabih Ailled   \n",
       "3242          0.0        0.0           0.0     0.0     0.0    Ankabih Tradve   \n",
       "\n",
       "      Transported group_id  \n",
       "5826         True       02  \n",
       "6832         True       03  \n",
       "8588        False       01  \n",
       "1374         True       01  \n",
       "3242         True       02  "
      ]
     },
     "execution_count": 3,
     "metadata": {},
     "output_type": "execute_result"
    }
   ],
   "source": [
    "train.head()"
   ]
  },
  {
   "cell_type": "markdown",
   "id": "bb600bd0",
   "metadata": {
    "papermill": {
     "duration": 0.012102,
     "end_time": "2024-05-08T00:22:35.707320",
     "exception": false,
     "start_time": "2024-05-08T00:22:35.695218",
     "status": "completed"
    },
    "tags": []
   },
   "source": [
    "# 🤓Data"
   ]
  },
  {
   "cell_type": "markdown",
   "id": "e12e938d",
   "metadata": {
    "papermill": {
     "duration": 0.012464,
     "end_time": "2024-05-08T00:22:35.731115",
     "exception": false,
     "start_time": "2024-05-08T00:22:35.718651",
     "status": "completed"
    },
    "tags": []
   },
   "source": [
    "## TODO\n",
    "- Check the Passenger Id Group prefix"
   ]
  },
  {
   "cell_type": "code",
   "execution_count": 4,
   "id": "36b43f13",
   "metadata": {
    "execution": {
     "iopub.execute_input": "2024-05-08T00:22:35.755238Z",
     "iopub.status.busy": "2024-05-08T00:22:35.754854Z",
     "iopub.status.idle": "2024-05-08T00:22:36.246290Z",
     "shell.execute_reply": "2024-05-08T00:22:36.245154Z"
    },
    "papermill": {
     "duration": 0.506578,
     "end_time": "2024-05-08T00:22:36.248900",
     "exception": false,
     "start_time": "2024-05-08T00:22:35.742322",
     "status": "completed"
    },
    "tags": []
   },
   "outputs": [
    {
     "data": {
      "image/png": "[encoded data removed]",
      "text/plain": [
       "<Figure size 640x480 with 2 Axes>"
      ]
     },
     "metadata": {},
     "output_type": "display_data"
    }
   ],
   "source": [
    "g = train[num + [target]].corr()\n",
    "np.fill_diagonal(g.values, 0)\n",
    "mask = np.triu(np.ones_like(g, dtype=bool))\n",
    "sns.heatmap(g, annot=True, cmap='RdBu', mask=mask, fmt='.2f');"
   ]
  },
  {
   "cell_type": "code",
   "execution_count": 5,
   "id": "4908be39",
   "metadata": {
    "execution": {
     "iopub.execute_input": "2024-05-08T00:22:36.275518Z",
     "iopub.status.busy": "2024-05-08T00:22:36.274789Z",
     "iopub.status.idle": "2024-05-08T00:22:36.289528Z",
     "shell.execute_reply": "2024-05-08T00:22:36.288413Z"
    },
    "papermill": {
     "duration": 0.03094,
     "end_time": "2024-05-08T00:22:36.291933",
     "exception": false,
     "start_time": "2024-05-08T00:22:36.260993",
     "status": "completed"
    },
    "tags": []
   },
   "outputs": [
    {
     "data": {
      "text/plain": [
       "HomePlanet\n",
       "Earth     0.424267\n",
       "Europa    0.662398\n",
       "Mars      0.531673\n",
       "Name: Transported, dtype: float64"
      ]
     },
     "execution_count": 5,
     "metadata": {},
     "output_type": "execute_result"
    }
   ],
   "source": [
    "train.groupby('HomePlanet')[target].mean()"
   ]
  },
  {
   "cell_type": "code",
   "execution_count": 6,
   "id": "a80dd5eb",
   "metadata": {
    "execution": {
     "iopub.execute_input": "2024-05-08T00:22:36.318600Z",
     "iopub.status.busy": "2024-05-08T00:22:36.318155Z",
     "iopub.status.idle": "2024-05-08T00:22:36.336650Z",
     "shell.execute_reply": "2024-05-08T00:22:36.335622Z"
    },
    "papermill": {
     "duration": 0.034432,
     "end_time": "2024-05-08T00:22:36.338975",
     "exception": false,
     "start_time": "2024-05-08T00:22:36.304543",
     "status": "completed"
    },
    "tags": []
   },
   "outputs": [
    {
     "data": {
      "text/html": [
       "<div>\n",
       "<style scoped>\n",
       "    .dataframe tbody tr th:only-of-type {\n",
       "        vertical-align: middle;\n",
       "    }\n",
       "\n",
       "    .dataframe tbody tr th {\n",
       "        vertical-align: top;\n",
       "    }\n",
       "\n",
       "    .dataframe thead th {\n",
       "        text-align: right;\n",
       "    }\n",
       "</style>\n",
       "<table border=\"1\" class=\"dataframe\">\n",
       "  <thead>\n",
       "    <tr style=\"text-align: right;\">\n",
       "      <th></th>\n",
       "      <th>mean</th>\n",
       "      <th>sum</th>\n",
       "      <th>count</th>\n",
       "    </tr>\n",
       "    <tr>\n",
       "      <th>CryoSleep</th>\n",
       "      <th></th>\n",
       "      <th></th>\n",
       "      <th></th>\n",
       "    </tr>\n",
       "  </thead>\n",
       "  <tbody>\n",
       "    <tr>\n",
       "      <th>False</th>\n",
       "      <td>0.331108</td>\n",
       "      <td>1438</td>\n",
       "      <td>4343</td>\n",
       "    </tr>\n",
       "    <tr>\n",
       "      <th>True</th>\n",
       "      <td>0.823457</td>\n",
       "      <td>2001</td>\n",
       "      <td>2430</td>\n",
       "    </tr>\n",
       "  </tbody>\n",
       "</table>\n",
       "</div>"
      ],
      "text/plain": [
       "               mean   sum  count\n",
       "CryoSleep                       \n",
       "False      0.331108  1438   4343\n",
       "True       0.823457  2001   2430"
      ]
     },
     "execution_count": 6,
     "metadata": {},
     "output_type": "execute_result"
    }
   ],
   "source": [
    "train.groupby('CryoSleep')[target].agg(['mean', 'sum', 'count'])"
   ]
  },
  {
   "cell_type": "code",
   "execution_count": 7,
   "id": "feb98767",
   "metadata": {
    "execution": {
     "iopub.execute_input": "2024-05-08T00:22:36.366644Z",
     "iopub.status.busy": "2024-05-08T00:22:36.365864Z",
     "iopub.status.idle": "2024-05-08T00:22:36.382536Z",
     "shell.execute_reply": "2024-05-08T00:22:36.381318Z"
    },
    "papermill": {
     "duration": 0.033603,
     "end_time": "2024-05-08T00:22:36.385155",
     "exception": false,
     "start_time": "2024-05-08T00:22:36.351552",
     "status": "completed"
    },
    "tags": []
   },
   "outputs": [
    {
     "data": {
      "text/plain": [
       "PassengerId     0.000000\n",
       "HomePlanet      0.021139\n",
       "CryoSleep       0.026028\n",
       "Cabin           0.023871\n",
       "Destination     0.020564\n",
       "Age             0.021858\n",
       "VIP             0.023871\n",
       "RoomService     0.020276\n",
       "FoodCourt       0.020995\n",
       "ShoppingMall    0.023727\n",
       "Spa             0.021139\n",
       "VRDeck          0.020851\n",
       "Name            0.024159\n",
       "Transported     0.000000\n",
       "group_id        0.000000\n",
       "dtype: float64"
      ]
     },
     "execution_count": 7,
     "metadata": {},
     "output_type": "execute_result"
    }
   ],
   "source": [
    "train.isnull().mean()"
   ]
  },
  {
   "cell_type": "markdown",
   "id": "cb3c9de3",
   "metadata": {
    "papermill": {
     "duration": 0.012988,
     "end_time": "2024-05-08T00:22:36.411240",
     "exception": false,
     "start_time": "2024-05-08T00:22:36.398252",
     "status": "completed"
    },
    "tags": []
   },
   "source": [
    "# 🤖Model\n",
    "## Feature Engineering"
   ]
  },
  {
   "cell_type": "code",
   "execution_count": 8,
   "id": "b9cdfae1",
   "metadata": {
    "execution": {
     "iopub.execute_input": "2024-05-08T00:22:36.441557Z",
     "iopub.status.busy": "2024-05-08T00:22:36.441102Z",
     "iopub.status.idle": "2024-05-08T00:22:36.446135Z",
     "shell.execute_reply": "2024-05-08T00:22:36.444986Z"
    },
    "papermill": {
     "duration": 0.021468,
     "end_time": "2024-05-08T00:22:36.448419",
     "exception": false,
     "start_time": "2024-05-08T00:22:36.426951",
     "status": "completed"
    },
    "tags": []
   },
   "outputs": [],
   "source": [
    "from sklearn.base import BaseEstimator, TransformerMixin"
   ]
  },
  {
   "cell_type": "code",
   "execution_count": 9,
   "id": "fd9e59f6",
   "metadata": {
    "execution": {
     "iopub.execute_input": "2024-05-08T00:22:36.476250Z",
     "iopub.status.busy": "2024-05-08T00:22:36.475431Z",
     "iopub.status.idle": "2024-05-08T00:22:36.482119Z",
     "shell.execute_reply": "2024-05-08T00:22:36.481041Z"
    },
    "papermill": {
     "duration": 0.023352,
     "end_time": "2024-05-08T00:22:36.484393",
     "exception": false,
     "start_time": "2024-05-08T00:22:36.461041",
     "status": "completed"
    },
    "tags": []
   },
   "outputs": [],
   "source": [
    "class DataSelect(BaseEstimator, TransformerMixin):\n",
    "    def __init__(self, attributes):\n",
    "        self.attributes = attributes\n",
    "    def fit(self, X, y=None):\n",
    "        return self\n",
    "    def transform(self, X, y=None):\n",
    "        return X[self.attributes]"
   ]
  },
  {
   "cell_type": "code",
   "execution_count": 10,
   "id": "9c416a1c",
   "metadata": {
    "execution": {
     "iopub.execute_input": "2024-05-08T00:22:36.512530Z",
     "iopub.status.busy": "2024-05-08T00:22:36.511596Z",
     "iopub.status.idle": "2024-05-08T00:22:36.518181Z",
     "shell.execute_reply": "2024-05-08T00:22:36.517225Z"
    },
    "papermill": {
     "duration": 0.02329,
     "end_time": "2024-05-08T00:22:36.520648",
     "exception": false,
     "start_time": "2024-05-08T00:22:36.497358",
     "status": "completed"
    },
    "tags": []
   },
   "outputs": [],
   "source": [
    "class FeatureEngineer(BaseEstimator, TransformerMixin):\n",
    "    def __init__(self):\n",
    "        pass\n",
    "    def fit(self, X, y=None):\n",
    "        return self\n",
    "    def transform(self, X, y=None):\n",
    "        dframe = pd.DataFrame({\n",
    "            'group_id': X['PassengerId'].transform(lambda x: x.split('_')[1])\n",
    "        })\n",
    "        return dframe"
   ]
  },
  {
   "cell_type": "markdown",
   "id": "b9fc878c",
   "metadata": {
    "papermill": {
     "duration": 0.012659,
     "end_time": "2024-05-08T00:22:36.546469",
     "exception": false,
     "start_time": "2024-05-08T00:22:36.533810",
     "status": "completed"
    },
    "tags": []
   },
   "source": [
    "## Pipeline"
   ]
  },
  {
   "cell_type": "code",
   "execution_count": 11,
   "id": "d256f7b3",
   "metadata": {
    "execution": {
     "iopub.execute_input": "2024-05-08T00:22:36.573398Z",
     "iopub.status.busy": "2024-05-08T00:22:36.572962Z",
     "iopub.status.idle": "2024-05-08T00:22:36.745733Z",
     "shell.execute_reply": "2024-05-08T00:22:36.744591Z"
    },
    "papermill": {
     "duration": 0.189567,
     "end_time": "2024-05-08T00:22:36.748552",
     "exception": false,
     "start_time": "2024-05-08T00:22:36.558985",
     "status": "completed"
    },
    "tags": []
   },
   "outputs": [],
   "source": [
    "from sklearn.pipeline import Pipeline, FeatureUnion\n",
    "from sklearn.impute import SimpleImputer\n",
    "from sklearn.preprocessing import StandardScaler, OneHotEncoder"
   ]
  },
  {
   "cell_type": "code",
   "execution_count": 12,
   "id": "5be57dfb",
   "metadata": {
    "execution": {
     "iopub.execute_input": "2024-05-08T00:22:36.776165Z",
     "iopub.status.busy": "2024-05-08T00:22:36.775744Z",
     "iopub.status.idle": "2024-05-08T00:22:36.782562Z",
     "shell.execute_reply": "2024-05-08T00:22:36.781277Z"
    },
    "papermill": {
     "duration": 0.023179,
     "end_time": "2024-05-08T00:22:36.784742",
     "exception": false,
     "start_time": "2024-05-08T00:22:36.761563",
     "status": "completed"
    },
    "tags": []
   },
   "outputs": [
    {
     "data": {
      "text/plain": [
       "['Age', 'RoomService', 'FoodCourt', 'ShoppingMall', 'Spa', 'VRDeck']"
      ]
     },
     "execution_count": 12,
     "metadata": {},
     "output_type": "execute_result"
    }
   ],
   "source": [
    "num"
   ]
  },
  {
   "cell_type": "code",
   "execution_count": 13,
   "id": "d8a61cd1",
   "metadata": {
    "execution": {
     "iopub.execute_input": "2024-05-08T00:22:36.813017Z",
     "iopub.status.busy": "2024-05-08T00:22:36.812476Z",
     "iopub.status.idle": "2024-05-08T00:22:36.858062Z",
     "shell.execute_reply": "2024-05-08T00:22:36.856972Z"
    },
    "papermill": {
     "duration": 0.063039,
     "end_time": "2024-05-08T00:22:36.860857",
     "exception": false,
     "start_time": "2024-05-08T00:22:36.797818",
     "status": "completed"
    },
    "tags": []
   },
   "outputs": [],
   "source": [
    "cat_pp = Pipeline([\n",
    "    ('dataselect', DataSelect(['CryoSleep', 'PassengerId']))\n",
    "    , ('featureengineer', FeatureEngineer())\n",
    "#     , ('impute', SimpleImputer(strategy='constant', fill_value='empty'))\n",
    "    , ('encoder', OneHotEncoder(sparse_output=False))\n",
    "])\n",
    "\n",
    "num_pp = Pipeline([\n",
    "    ('dataselect', DataSelect(num))\n",
    "    , ('impute', SimpleImputer(strategy='mean'))\n",
    "    , ('scaler', StandardScaler())\n",
    "])\n",
    "\n",
    "pipe = FeatureUnion([\n",
    "    ('cat', cat_pp)\n",
    "    , ('num', num_pp)\n",
    "])\n",
    "\n",
    "pipe.fit(train)\n",
    "train_pp = pipe.transform(train)\n",
    "test_pp = pipe.transform(test)"
   ]
  },
  {
   "cell_type": "code",
   "execution_count": 14,
   "id": "109f1181",
   "metadata": {
    "execution": {
     "iopub.execute_input": "2024-05-08T00:22:36.888538Z",
     "iopub.status.busy": "2024-05-08T00:22:36.888136Z",
     "iopub.status.idle": "2024-05-08T00:22:36.993787Z",
     "shell.execute_reply": "2024-05-08T00:22:36.992540Z"
    },
    "papermill": {
     "duration": 0.122813,
     "end_time": "2024-05-08T00:22:36.996561",
     "exception": false,
     "start_time": "2024-05-08T00:22:36.873748",
     "status": "completed"
    },
    "tags": []
   },
   "outputs": [],
   "source": [
    "from sklearn.naive_bayes import GaussianNB\n",
    "from sklearn.svm import SVC\n",
    "from sklearn.tree import DecisionTreeClassifier\n",
    "from sklearn.ensemble import RandomForestClassifier\n",
    "\n",
    "from sklearn.model_selection import cross_val_score"
   ]
  },
  {
   "cell_type": "code",
   "execution_count": 15,
   "id": "e6443ff7",
   "metadata": {
    "execution": {
     "iopub.execute_input": "2024-05-08T00:22:37.024584Z",
     "iopub.status.busy": "2024-05-08T00:22:37.024126Z",
     "iopub.status.idle": "2024-05-08T00:22:37.074645Z",
     "shell.execute_reply": "2024-05-08T00:22:37.073339Z"
    },
    "papermill": {
     "duration": 0.067302,
     "end_time": "2024-05-08T00:22:37.077087",
     "exception": false,
     "start_time": "2024-05-08T00:22:37.009785",
     "status": "completed"
    },
    "tags": []
   },
   "outputs": [
    {
     "data": {
      "text/plain": [
       "0.6852181288757635"
      ]
     },
     "execution_count": 15,
     "metadata": {},
     "output_type": "execute_result"
    }
   ],
   "source": [
    "gnb = GaussianNB()\n",
    "gnb.fit(train_pp, train[target])\n",
    "cross_val_score(gnb, train_pp, train[target]).mean()"
   ]
  },
  {
   "cell_type": "code",
   "execution_count": 16,
   "id": "4b40864d",
   "metadata": {
    "execution": {
     "iopub.execute_input": "2024-05-08T00:22:37.107034Z",
     "iopub.status.busy": "2024-05-08T00:22:37.106283Z",
     "iopub.status.idle": "2024-05-08T00:22:47.295334Z",
     "shell.execute_reply": "2024-05-08T00:22:47.294118Z"
    },
    "papermill": {
     "duration": 10.207126,
     "end_time": "2024-05-08T00:22:47.297976",
     "exception": false,
     "start_time": "2024-05-08T00:22:37.090850",
     "status": "completed"
    },
    "tags": []
   },
   "outputs": [
    {
     "data": {
      "text/plain": [
       "0.7868844421227935"
      ]
     },
     "execution_count": 16,
     "metadata": {},
     "output_type": "execute_result"
    }
   ],
   "source": [
    "svc = SVC()\n",
    "svc.fit(train_pp, train[target])\n",
    "cross_val_score(svc, train_pp, train[target]).mean()"
   ]
  },
  {
   "cell_type": "code",
   "execution_count": 17,
   "id": "17f2f37b",
   "metadata": {
    "execution": {
     "iopub.execute_input": "2024-05-08T00:22:47.327413Z",
     "iopub.status.busy": "2024-05-08T00:22:47.327010Z",
     "iopub.status.idle": "2024-05-08T00:22:47.502903Z",
     "shell.execute_reply": "2024-05-08T00:22:47.501769Z"
    },
    "papermill": {
     "duration": 0.193629,
     "end_time": "2024-05-08T00:22:47.505456",
     "exception": false,
     "start_time": "2024-05-08T00:22:47.311827",
     "status": "completed"
    },
    "tags": []
   },
   "outputs": [
    {
     "data": {
      "text/plain": [
       "0.7211666985606339"
      ]
     },
     "execution_count": 17,
     "metadata": {},
     "output_type": "execute_result"
    }
   ],
   "source": [
    "dcs = DecisionTreeClassifier()\n",
    "dcs.fit(train_pp, train[target])\n",
    "cross_val_score(dcs, train_pp, train[target]).mean()"
   ]
  },
  {
   "cell_type": "code",
   "execution_count": 18,
   "id": "c98ceb91",
   "metadata": {
    "execution": {
     "iopub.execute_input": "2024-05-08T00:22:47.534227Z",
     "iopub.status.busy": "2024-05-08T00:22:47.533301Z",
     "iopub.status.idle": "2024-05-08T00:22:52.708695Z",
     "shell.execute_reply": "2024-05-08T00:22:52.707382Z"
    },
    "papermill": {
     "duration": 5.192615,
     "end_time": "2024-05-08T00:22:52.711448",
     "exception": false,
     "start_time": "2024-05-08T00:22:47.518833",
     "status": "completed"
    },
    "tags": []
   },
   "outputs": [
    {
     "data": {
      "text/plain": [
       "0.7785442903764694"
      ]
     },
     "execution_count": 18,
     "metadata": {},
     "output_type": "execute_result"
    }
   ],
   "source": [
    "rfc = RandomForestClassifier()\n",
    "rfc.fit(train_pp, train[target])\n",
    "cross_val_score(rfc, train_pp, train[target]).mean()"
   ]
  },
  {
   "cell_type": "code",
   "execution_count": 19,
   "id": "98ba3122",
   "metadata": {
    "execution": {
     "iopub.execute_input": "2024-05-08T00:22:52.745446Z",
     "iopub.status.busy": "2024-05-08T00:22:52.744805Z",
     "iopub.status.idle": "2024-05-08T00:22:52.749165Z",
     "shell.execute_reply": "2024-05-08T00:22:52.748015Z"
    },
    "papermill": {
     "duration": 0.022746,
     "end_time": "2024-05-08T00:22:52.751641",
     "exception": false,
     "start_time": "2024-05-08T00:22:52.728895",
     "status": "completed"
    },
    "tags": []
   },
   "outputs": [],
   "source": [
    "model_base = svc"
   ]
  },
  {
   "cell_type": "code",
   "execution_count": 20,
   "id": "fddeb502",
   "metadata": {
    "execution": {
     "iopub.execute_input": "2024-05-08T00:22:52.781069Z",
     "iopub.status.busy": "2024-05-08T00:22:52.780278Z",
     "iopub.status.idle": "2024-05-08T00:22:52.784873Z",
     "shell.execute_reply": "2024-05-08T00:22:52.783709Z"
    },
    "papermill": {
     "duration": 0.021959,
     "end_time": "2024-05-08T00:22:52.787263",
     "exception": false,
     "start_time": "2024-05-08T00:22:52.765304",
     "status": "completed"
    },
    "tags": []
   },
   "outputs": [],
   "source": [
    "from sklearn.model_selection import GridSearchCV"
   ]
  },
  {
   "cell_type": "code",
   "execution_count": 21,
   "id": "15118f01",
   "metadata": {
    "execution": {
     "iopub.execute_input": "2024-05-08T00:22:52.816950Z",
     "iopub.status.busy": "2024-05-08T00:22:52.815882Z",
     "iopub.status.idle": "2024-05-08T00:22:52.820473Z",
     "shell.execute_reply": "2024-05-08T00:22:52.819599Z"
    },
    "papermill": {
     "duration": 0.021729,
     "end_time": "2024-05-08T00:22:52.822579",
     "exception": false,
     "start_time": "2024-05-08T00:22:52.800850",
     "status": "completed"
    },
    "tags": []
   },
   "outputs": [],
   "source": [
    "# params = {\n",
    "#     \"kernel\": [\"poly\"]\n",
    "#     , \"degree\": [1, 10]\n",
    "#     , \"coef0\": [1, 50]\n",
    "#     , \"C\": [5]\n",
    "# }\n",
    "\n",
    "# grd = GridSearchCV(model_base, param_grid=params)\n",
    "# grd.fit(train_pp, train[target])\n",
    "# grd.best_params_"
   ]
  },
  {
   "cell_type": "code",
   "execution_count": 22,
   "id": "aee12a83",
   "metadata": {
    "execution": {
     "iopub.execute_input": "2024-05-08T00:22:52.851588Z",
     "iopub.status.busy": "2024-05-08T00:22:52.850806Z",
     "iopub.status.idle": "2024-05-08T00:23:02.032885Z",
     "shell.execute_reply": "2024-05-08T00:23:02.031656Z"
    },
    "papermill": {
     "duration": 9.199586,
     "end_time": "2024-05-08T00:23:02.035649",
     "exception": false,
     "start_time": "2024-05-08T00:22:52.836063",
     "status": "completed"
    },
    "tags": []
   },
   "outputs": [],
   "source": [
    "model_tune = SVC(kernel='poly', degree=3, coef0=1, C=5)\n",
    "model_tune.fit(train_pp, train[target]);"
   ]
  },
  {
   "cell_type": "markdown",
   "id": "2e8502f7",
   "metadata": {
    "papermill": {
     "duration": 0.013552,
     "end_time": "2024-05-08T00:23:02.063656",
     "exception": false,
     "start_time": "2024-05-08T00:23:02.050104",
     "status": "completed"
    },
    "tags": []
   },
   "source": [
    "## Validation"
   ]
  },
  {
   "cell_type": "code",
   "execution_count": 23,
   "id": "d2800a78",
   "metadata": {
    "execution": {
     "iopub.execute_input": "2024-05-08T00:23:02.093298Z",
     "iopub.status.busy": "2024-05-08T00:23:02.092627Z",
     "iopub.status.idle": "2024-05-08T00:23:02.097405Z",
     "shell.execute_reply": "2024-05-08T00:23:02.096553Z"
    },
    "papermill": {
     "duration": 0.021983,
     "end_time": "2024-05-08T00:23:02.099604",
     "exception": false,
     "start_time": "2024-05-08T00:23:02.077621",
     "status": "completed"
    },
    "tags": []
   },
   "outputs": [],
   "source": [
    "from sklearn.model_selection import cross_val_predict\n",
    "from sklearn.metrics import accuracy_score, recall_score, precision_score, f1_score, roc_auc_score"
   ]
  },
  {
   "cell_type": "code",
   "execution_count": 24,
   "id": "c813e9f2",
   "metadata": {
    "execution": {
     "iopub.execute_input": "2024-05-08T00:23:02.128963Z",
     "iopub.status.busy": "2024-05-08T00:23:02.128543Z",
     "iopub.status.idle": "2024-05-08T00:23:02.134335Z",
     "shell.execute_reply": "2024-05-08T00:23:02.133073Z"
    },
    "papermill": {
     "duration": 0.024028,
     "end_time": "2024-05-08T00:23:02.137235",
     "exception": false,
     "start_time": "2024-05-08T00:23:02.113207",
     "status": "completed"
    },
    "tags": []
   },
   "outputs": [],
   "source": [
    "def getPreds(m, x, y):\n",
    "    return cross_val_predict(m, x, y)\n",
    "\n",
    "def getScore(v, x, y, m):\n",
    "    return v(y, getPreds(m, x, y))"
   ]
  },
  {
   "cell_type": "code",
   "execution_count": 25,
   "id": "ad6030a0",
   "metadata": {
    "execution": {
     "iopub.execute_input": "2024-05-08T00:23:02.167246Z",
     "iopub.status.busy": "2024-05-08T00:23:02.166440Z",
     "iopub.status.idle": "2024-05-08T00:25:00.393006Z",
     "shell.execute_reply": "2024-05-08T00:25:00.391895Z"
    },
    "papermill": {
     "duration": 118.24434,
     "end_time": "2024-05-08T00:25:00.395643",
     "exception": false,
     "start_time": "2024-05-08T00:23:02.151303",
     "status": "completed"
    },
    "tags": []
   },
   "outputs": [
    {
     "name": "stdout",
     "output_type": "stream",
     "text": [
      "accuracy_score\n",
      "SVC()\n",
      "train 0.7868852459016393\n",
      "test 0.7688326624496837\n",
      "SVC(C=5, coef0=1, kernel='poly')\n",
      "train 0.7830025884383088\n",
      "test 0.7648073605520413\n",
      "precision_score\n",
      "SVC()\n",
      "train 0.7490864799025578\n",
      "test 0.7136060894386299\n",
      "SVC(C=5, coef0=1, kernel='poly')\n",
      "train 0.7551846231664138\n",
      "test 0.7188118811881188\n",
      "recall_score\n",
      "SVC()\n",
      "train 0.8718457612702013\n",
      "test 0.881316098707403\n",
      "SVC(C=5, coef0=1, kernel='poly')\n",
      "train 0.8466118514318117\n",
      "test 0.8531139835487661\n",
      "f1_score\n",
      "SVC()\n",
      "train 0.8058176100628931\n",
      "test 0.7886435331230284\n",
      "SVC(C=5, coef0=1, kernel='poly')\n",
      "train 0.7982889987969524\n",
      "test 0.7802256851155293\n"
     ]
    }
   ],
   "source": [
    "valid = [accuracy_score, precision_score, recall_score, f1_score]\n",
    "dfspl = [('train', train_pp, train[target]), ('test', test_pp, test[target])]\n",
    "model = [model_base, model_tune]\n",
    "for v in valid:\n",
    "    print(v.__name__)\n",
    "    for m in model:\n",
    "        print(str(m))\n",
    "        for n, x, y in dfspl:\n",
    "            print(n, getScore(v, x, y, m))"
   ]
  },
  {
   "cell_type": "markdown",
   "id": "7455da78",
   "metadata": {
    "papermill": {
     "duration": 0.018247,
     "end_time": "2024-05-08T00:25:00.429017",
     "exception": false,
     "start_time": "2024-05-08T00:25:00.410770",
     "status": "completed"
    },
    "tags": []
   },
   "source": [
    "## Submission"
   ]
  },
  {
   "cell_type": "code",
   "execution_count": 26,
   "id": "e1b36a49",
   "metadata": {
    "execution": {
     "iopub.execute_input": "2024-05-08T00:25:00.462121Z",
     "iopub.status.busy": "2024-05-08T00:25:00.461625Z",
     "iopub.status.idle": "2024-05-08T00:25:01.052480Z",
     "shell.execute_reply": "2024-05-08T00:25:01.050986Z"
    },
    "papermill": {
     "duration": 0.611474,
     "end_time": "2024-05-08T00:25:01.055952",
     "exception": false,
     "start_time": "2024-05-08T00:25:00.444478",
     "status": "completed"
    },
    "tags": []
   },
   "outputs": [],
   "source": [
    "samp = pd.read_csv('/kaggle/input/spaceship-titanic/test.csv')\n",
    "pd.DataFrame({\n",
    "    \"PassengerId\": samp[\"PassengerId\"]\n",
    "    , \"Transported\": model_tune.predict(pipe.transform(samp))\n",
    "}).to_csv('submission.csv', index=False)"
   ]
  },
  {
   "cell_type": "markdown",
   "id": "7d894f06",
   "metadata": {
    "papermill": {
     "duration": 0.014762,
     "end_time": "2024-05-08T00:25:01.090476",
     "exception": false,
     "start_time": "2024-05-08T00:25:01.075714",
     "status": "completed"
    },
    "tags": []
   },
   "source": [
    "# 📌Notes to Self\n",
    "I still cannot see how I can keep improving my score without visualizing the model performance. Try to get a confusion matrix working."
   ]
  },
  {
   "cell_type": "code",
   "execution_count": null,
   "id": "0e7f5b61",
   "metadata": {
    "papermill": {
     "duration": 0.014919,
     "end_time": "2024-05-08T00:25:01.120360",
     "exception": false,
     "start_time": "2024-05-08T00:25:01.105441",
     "status": "completed"
    },
    "tags": []
   },
   "outputs": [],
   "source": []
  }
 ],
 "metadata": {
  "kaggle": {
   "accelerator": "none",
   "dataSources": [
    {
     "databundleVersionId": 3220602,
     "sourceId": 34377,
     "sourceType": "competition"
    }
   ],
   "dockerImageVersionId": 30684,
   "isGpuEnabled": false,
   "isInternetEnabled": true,
   "language": "python",
   "sourceType": "notebook"
  },
  "kernelspec": {
   "display_name": "Python 3",
   "language": "python",
   "name": "python3"
  },
  "language_info": {
   "codemirror_mode": {
    "name": "ipython",
    "version": 3
   },
   "file_extension": ".py",
   "mimetype": "text/x-python",
   "name": "python",
   "nbconvert_exporter": "python",
   "pygments_lexer": "ipython3",
   "version": "3.10.13"
  },
  "papermill": {
   "default_parameters": {},
   "duration": 152.447862,
   "end_time": "2024-05-08T00:25:01.856751",
   "environment_variables": {},
   "exception": null,
   "input_path": "__notebook__.ipynb",
   "output_path": "__notebook__.ipynb",
   "parameters": {},
   "start_time": "2024-05-08T00:22:29.408889",
   "version": "2.5.0"
  }
 },
 "nbformat": 4,
 "nbformat_minor": 5
}
