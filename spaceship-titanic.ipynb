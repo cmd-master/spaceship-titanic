{
 "cells": [
  {
   "cell_type": "markdown",
   "id": "85269df0",
   "metadata": {
    "papermill": {
     "duration": 0.015171,
     "end_time": "2024-04-16T00:48:47.703827",
     "exception": false,
     "start_time": "2024-04-16T00:48:47.688656",
     "status": "completed"
    },
    "tags": []
   },
   "source": [
    "[kaggle](https://www.kaggle.com/code/fiftythirtyfour/spaceship-titanic)"
   ]
  },
  {
   "cell_type": "code",
   "execution_count": 1,
   "id": "8fcd15c6",
   "metadata": {
    "execution": {
     "iopub.execute_input": "2024-04-16T00:48:47.736881Z",
     "iopub.status.busy": "2024-04-16T00:48:47.736076Z",
     "iopub.status.idle": "2024-04-16T00:48:50.209313Z",
     "shell.execute_reply": "2024-04-16T00:48:50.208325Z"
    },
    "papermill": {
     "duration": 2.492865,
     "end_time": "2024-04-16T00:48:50.212074",
     "exception": false,
     "start_time": "2024-04-16T00:48:47.719209",
     "status": "completed"
    },
    "tags": []
   },
   "outputs": [],
   "source": [
    "import pandas as pd\n",
    "import numpy as np\n",
    "import seaborn as sns"
   ]
  },
  {
   "cell_type": "code",
   "execution_count": 2,
   "id": "9219c1c0",
   "metadata": {
    "execution": {
     "iopub.execute_input": "2024-04-16T00:48:50.243611Z",
     "iopub.status.busy": "2024-04-16T00:48:50.243085Z",
     "iopub.status.idle": "2024-04-16T00:48:50.309490Z",
     "shell.execute_reply": "2024-04-16T00:48:50.308351Z"
    },
    "papermill": {
     "duration": 0.085288,
     "end_time": "2024-04-16T00:48:50.312222",
     "exception": false,
     "start_time": "2024-04-16T00:48:50.226934",
     "status": "completed"
    },
    "tags": []
   },
   "outputs": [],
   "source": [
    "df = pd.read_csv('/kaggle/input/spaceship-titanic/train.csv')"
   ]
  },
  {
   "cell_type": "code",
   "execution_count": 3,
   "id": "c3a5169d",
   "metadata": {
    "execution": {
     "iopub.execute_input": "2024-04-16T00:48:50.344939Z",
     "iopub.status.busy": "2024-04-16T00:48:50.344528Z",
     "iopub.status.idle": "2024-04-16T00:48:50.373824Z",
     "shell.execute_reply": "2024-04-16T00:48:50.373058Z"
    },
    "papermill": {
     "duration": 0.047512,
     "end_time": "2024-04-16T00:48:50.375915",
     "exception": false,
     "start_time": "2024-04-16T00:48:50.328403",
     "status": "completed"
    },
    "tags": []
   },
   "outputs": [
    {
     "data": {
      "text/html": [
       "<div>\n",
       "<style scoped>\n",
       "    .dataframe tbody tr th:only-of-type {\n",
       "        vertical-align: middle;\n",
       "    }\n",
       "\n",
       "    .dataframe tbody tr th {\n",
       "        vertical-align: top;\n",
       "    }\n",
       "\n",
       "    .dataframe thead th {\n",
       "        text-align: right;\n",
       "    }\n",
       "</style>\n",
       "<table border=\"1\" class=\"dataframe\">\n",
       "  <thead>\n",
       "    <tr style=\"text-align: right;\">\n",
       "      <th></th>\n",
       "      <th>PassengerId</th>\n",
       "      <th>HomePlanet</th>\n",
       "      <th>CryoSleep</th>\n",
       "      <th>Cabin</th>\n",
       "      <th>Destination</th>\n",
       "      <th>Age</th>\n",
       "      <th>VIP</th>\n",
       "      <th>RoomService</th>\n",
       "      <th>FoodCourt</th>\n",
       "      <th>ShoppingMall</th>\n",
       "      <th>Spa</th>\n",
       "      <th>VRDeck</th>\n",
       "      <th>Name</th>\n",
       "      <th>Transported</th>\n",
       "    </tr>\n",
       "  </thead>\n",
       "  <tbody>\n",
       "    <tr>\n",
       "      <th>0</th>\n",
       "      <td>0001_01</td>\n",
       "      <td>Europa</td>\n",
       "      <td>False</td>\n",
       "      <td>B/0/P</td>\n",
       "      <td>TRAPPIST-1e</td>\n",
       "      <td>39.0</td>\n",
       "      <td>False</td>\n",
       "      <td>0.0</td>\n",
       "      <td>0.0</td>\n",
       "      <td>0.0</td>\n",
       "      <td>0.0</td>\n",
       "      <td>0.0</td>\n",
       "      <td>Maham Ofracculy</td>\n",
       "      <td>False</td>\n",
       "    </tr>\n",
       "    <tr>\n",
       "      <th>1</th>\n",
       "      <td>0002_01</td>\n",
       "      <td>Earth</td>\n",
       "      <td>False</td>\n",
       "      <td>F/0/S</td>\n",
       "      <td>TRAPPIST-1e</td>\n",
       "      <td>24.0</td>\n",
       "      <td>False</td>\n",
       "      <td>109.0</td>\n",
       "      <td>9.0</td>\n",
       "      <td>25.0</td>\n",
       "      <td>549.0</td>\n",
       "      <td>44.0</td>\n",
       "      <td>Juanna Vines</td>\n",
       "      <td>True</td>\n",
       "    </tr>\n",
       "    <tr>\n",
       "      <th>2</th>\n",
       "      <td>0003_01</td>\n",
       "      <td>Europa</td>\n",
       "      <td>False</td>\n",
       "      <td>A/0/S</td>\n",
       "      <td>TRAPPIST-1e</td>\n",
       "      <td>58.0</td>\n",
       "      <td>True</td>\n",
       "      <td>43.0</td>\n",
       "      <td>3576.0</td>\n",
       "      <td>0.0</td>\n",
       "      <td>6715.0</td>\n",
       "      <td>49.0</td>\n",
       "      <td>Altark Susent</td>\n",
       "      <td>False</td>\n",
       "    </tr>\n",
       "    <tr>\n",
       "      <th>3</th>\n",
       "      <td>0003_02</td>\n",
       "      <td>Europa</td>\n",
       "      <td>False</td>\n",
       "      <td>A/0/S</td>\n",
       "      <td>TRAPPIST-1e</td>\n",
       "      <td>33.0</td>\n",
       "      <td>False</td>\n",
       "      <td>0.0</td>\n",
       "      <td>1283.0</td>\n",
       "      <td>371.0</td>\n",
       "      <td>3329.0</td>\n",
       "      <td>193.0</td>\n",
       "      <td>Solam Susent</td>\n",
       "      <td>False</td>\n",
       "    </tr>\n",
       "    <tr>\n",
       "      <th>4</th>\n",
       "      <td>0004_01</td>\n",
       "      <td>Earth</td>\n",
       "      <td>False</td>\n",
       "      <td>F/1/S</td>\n",
       "      <td>TRAPPIST-1e</td>\n",
       "      <td>16.0</td>\n",
       "      <td>False</td>\n",
       "      <td>303.0</td>\n",
       "      <td>70.0</td>\n",
       "      <td>151.0</td>\n",
       "      <td>565.0</td>\n",
       "      <td>2.0</td>\n",
       "      <td>Willy Santantines</td>\n",
       "      <td>True</td>\n",
       "    </tr>\n",
       "  </tbody>\n",
       "</table>\n",
       "</div>"
      ],
      "text/plain": [
       "  PassengerId HomePlanet CryoSleep  Cabin  Destination   Age    VIP  \\\n",
       "0     0001_01     Europa     False  B/0/P  TRAPPIST-1e  39.0  False   \n",
       "1     0002_01      Earth     False  F/0/S  TRAPPIST-1e  24.0  False   \n",
       "2     0003_01     Europa     False  A/0/S  TRAPPIST-1e  58.0   True   \n",
       "3     0003_02     Europa     False  A/0/S  TRAPPIST-1e  33.0  False   \n",
       "4     0004_01      Earth     False  F/1/S  TRAPPIST-1e  16.0  False   \n",
       "\n",
       "   RoomService  FoodCourt  ShoppingMall     Spa  VRDeck               Name  \\\n",
       "0          0.0        0.0           0.0     0.0     0.0    Maham Ofracculy   \n",
       "1        109.0        9.0          25.0   549.0    44.0       Juanna Vines   \n",
       "2         43.0     3576.0           0.0  6715.0    49.0      Altark Susent   \n",
       "3          0.0     1283.0         371.0  3329.0   193.0       Solam Susent   \n",
       "4        303.0       70.0         151.0   565.0     2.0  Willy Santantines   \n",
       "\n",
       "   Transported  \n",
       "0        False  \n",
       "1         True  \n",
       "2        False  \n",
       "3        False  \n",
       "4         True  "
      ]
     },
     "execution_count": 3,
     "metadata": {},
     "output_type": "execute_result"
    }
   ],
   "source": [
    "df.head()"
   ]
  },
  {
   "cell_type": "code",
   "execution_count": 4,
   "id": "5fd80de0",
   "metadata": {
    "execution": {
     "iopub.execute_input": "2024-04-16T00:48:50.408742Z",
     "iopub.status.busy": "2024-04-16T00:48:50.407636Z",
     "iopub.status.idle": "2024-04-16T00:48:50.414611Z",
     "shell.execute_reply": "2024-04-16T00:48:50.413371Z"
    },
    "papermill": {
     "duration": 0.025736,
     "end_time": "2024-04-16T00:48:50.416903",
     "exception": false,
     "start_time": "2024-04-16T00:48:50.391167",
     "status": "completed"
    },
    "tags": []
   },
   "outputs": [
    {
     "data": {
      "text/plain": [
       "Index(['PassengerId', 'HomePlanet', 'CryoSleep', 'Cabin', 'Destination', 'Age',\n",
       "       'VIP', 'RoomService', 'FoodCourt', 'ShoppingMall', 'Spa', 'VRDeck',\n",
       "       'Name', 'Transported'],\n",
       "      dtype='object')"
      ]
     },
     "execution_count": 4,
     "metadata": {},
     "output_type": "execute_result"
    }
   ],
   "source": [
    "df.columns"
   ]
  },
  {
   "cell_type": "code",
   "execution_count": 5,
   "id": "3d397b94",
   "metadata": {
    "execution": {
     "iopub.execute_input": "2024-04-16T00:48:50.450042Z",
     "iopub.status.busy": "2024-04-16T00:48:50.449322Z",
     "iopub.status.idle": "2024-04-16T00:48:50.457613Z",
     "shell.execute_reply": "2024-04-16T00:48:50.456600Z"
    },
    "papermill": {
     "duration": 0.027331,
     "end_time": "2024-04-16T00:48:50.459775",
     "exception": false,
     "start_time": "2024-04-16T00:48:50.432444",
     "status": "completed"
    },
    "tags": []
   },
   "outputs": [
    {
     "data": {
      "text/plain": [
       "PassengerId      object\n",
       "HomePlanet       object\n",
       "CryoSleep        object\n",
       "Cabin            object\n",
       "Destination      object\n",
       "Age             float64\n",
       "VIP              object\n",
       "RoomService     float64\n",
       "FoodCourt       float64\n",
       "ShoppingMall    float64\n",
       "Spa             float64\n",
       "VRDeck          float64\n",
       "Name             object\n",
       "Transported        bool\n",
       "dtype: object"
      ]
     },
     "execution_count": 5,
     "metadata": {},
     "output_type": "execute_result"
    }
   ],
   "source": [
    "df.dtypes"
   ]
  },
  {
   "cell_type": "code",
   "execution_count": 6,
   "id": "f653389d",
   "metadata": {
    "execution": {
     "iopub.execute_input": "2024-04-16T00:48:50.493250Z",
     "iopub.status.busy": "2024-04-16T00:48:50.492517Z",
     "iopub.status.idle": "2024-04-16T00:48:50.502975Z",
     "shell.execute_reply": "2024-04-16T00:48:50.502009Z"
    },
    "papermill": {
     "duration": 0.030248,
     "end_time": "2024-04-16T00:48:50.505600",
     "exception": false,
     "start_time": "2024-04-16T00:48:50.475352",
     "status": "completed"
    },
    "tags": []
   },
   "outputs": [],
   "source": [
    "target = 'Transported'\n",
    "num = [x for x in df.columns if df.dtypes[x] in ['float64']]\n",
    "cat = [x for x in df.columns if df.dtypes[x] == 'object']\n",
    "cat.remove('PassengerId')"
   ]
  },
  {
   "cell_type": "code",
   "execution_count": 7,
   "id": "6622e625",
   "metadata": {
    "execution": {
     "iopub.execute_input": "2024-04-16T00:48:50.538703Z",
     "iopub.status.busy": "2024-04-16T00:48:50.538319Z",
     "iopub.status.idle": "2024-04-16T00:48:50.915024Z",
     "shell.execute_reply": "2024-04-16T00:48:50.913917Z"
    },
    "papermill": {
     "duration": 0.396193,
     "end_time": "2024-04-16T00:48:50.917833",
     "exception": false,
     "start_time": "2024-04-16T00:48:50.521640",
     "status": "completed"
    },
    "tags": []
   },
   "outputs": [],
   "source": [
    "from sklearn.model_selection import train_test_split\n",
    "train, test = train_test_split(df, test_size=.2, random_state=0)"
   ]
  },
  {
   "cell_type": "markdown",
   "id": "6ae3addb",
   "metadata": {
    "papermill": {
     "duration": 0.015289,
     "end_time": "2024-04-16T00:48:50.949075",
     "exception": false,
     "start_time": "2024-04-16T00:48:50.933786",
     "status": "completed"
    },
    "tags": []
   },
   "source": [
    "# Explore"
   ]
  },
  {
   "cell_type": "code",
   "execution_count": 8,
   "id": "e62b0b99",
   "metadata": {
    "execution": {
     "iopub.execute_input": "2024-04-16T00:48:50.982968Z",
     "iopub.status.busy": "2024-04-16T00:48:50.982582Z",
     "iopub.status.idle": "2024-04-16T00:48:50.992152Z",
     "shell.execute_reply": "2024-04-16T00:48:50.991072Z"
    },
    "papermill": {
     "duration": 0.029518,
     "end_time": "2024-04-16T00:48:50.994496",
     "exception": false,
     "start_time": "2024-04-16T00:48:50.964978",
     "status": "completed"
    },
    "tags": []
   },
   "outputs": [
    {
     "data": {
      "text/plain": [
       "0.5035950532067874"
      ]
     },
     "execution_count": 8,
     "metadata": {},
     "output_type": "execute_result"
    }
   ],
   "source": [
    "train[target].mean()"
   ]
  },
  {
   "cell_type": "code",
   "execution_count": 9,
   "id": "b2480afd",
   "metadata": {
    "execution": {
     "iopub.execute_input": "2024-04-16T00:48:51.029333Z",
     "iopub.status.busy": "2024-04-16T00:48:51.028896Z",
     "iopub.status.idle": "2024-04-16T00:48:51.036218Z",
     "shell.execute_reply": "2024-04-16T00:48:51.035092Z"
    },
    "papermill": {
     "duration": 0.027748,
     "end_time": "2024-04-16T00:48:51.038636",
     "exception": false,
     "start_time": "2024-04-16T00:48:51.010888",
     "status": "completed"
    },
    "tags": []
   },
   "outputs": [
    {
     "data": {
      "text/plain": [
       "['Age', 'RoomService', 'FoodCourt', 'ShoppingMall', 'Spa', 'VRDeck']"
      ]
     },
     "execution_count": 9,
     "metadata": {},
     "output_type": "execute_result"
    }
   ],
   "source": [
    "num"
   ]
  },
  {
   "cell_type": "code",
   "execution_count": 10,
   "id": "fd24517b",
   "metadata": {
    "execution": {
     "iopub.execute_input": "2024-04-16T00:48:51.072455Z",
     "iopub.status.busy": "2024-04-16T00:48:51.072045Z",
     "iopub.status.idle": "2024-04-16T00:48:51.079205Z",
     "shell.execute_reply": "2024-04-16T00:48:51.077901Z"
    },
    "papermill": {
     "duration": 0.027309,
     "end_time": "2024-04-16T00:48:51.081812",
     "exception": false,
     "start_time": "2024-04-16T00:48:51.054503",
     "status": "completed"
    },
    "tags": []
   },
   "outputs": [
    {
     "data": {
      "text/plain": [
       "['HomePlanet', 'CryoSleep', 'Cabin', 'Destination', 'VIP', 'Name']"
      ]
     },
     "execution_count": 10,
     "metadata": {},
     "output_type": "execute_result"
    }
   ],
   "source": [
    "cat"
   ]
  },
  {
   "cell_type": "code",
   "execution_count": 11,
   "id": "73dc2892",
   "metadata": {
    "execution": {
     "iopub.execute_input": "2024-04-16T00:48:51.116289Z",
     "iopub.status.busy": "2024-04-16T00:48:51.115881Z",
     "iopub.status.idle": "2024-04-16T00:48:51.137079Z",
     "shell.execute_reply": "2024-04-16T00:48:51.135949Z"
    },
    "papermill": {
     "duration": 0.041276,
     "end_time": "2024-04-16T00:48:51.139525",
     "exception": false,
     "start_time": "2024-04-16T00:48:51.098249",
     "status": "completed"
    },
    "tags": []
   },
   "outputs": [
    {
     "data": {
      "text/html": [
       "<div>\n",
       "<style scoped>\n",
       "    .dataframe tbody tr th:only-of-type {\n",
       "        vertical-align: middle;\n",
       "    }\n",
       "\n",
       "    .dataframe tbody tr th {\n",
       "        vertical-align: top;\n",
       "    }\n",
       "\n",
       "    .dataframe thead th {\n",
       "        text-align: right;\n",
       "    }\n",
       "</style>\n",
       "<table border=\"1\" class=\"dataframe\">\n",
       "  <thead>\n",
       "    <tr style=\"text-align: right;\">\n",
       "      <th></th>\n",
       "      <th>Age</th>\n",
       "      <th>RoomService</th>\n",
       "      <th>FoodCourt</th>\n",
       "      <th>ShoppingMall</th>\n",
       "      <th>Spa</th>\n",
       "      <th>VRDeck</th>\n",
       "    </tr>\n",
       "    <tr>\n",
       "      <th>Transported</th>\n",
       "      <th></th>\n",
       "      <th></th>\n",
       "      <th></th>\n",
       "      <th></th>\n",
       "      <th></th>\n",
       "      <th></th>\n",
       "    </tr>\n",
       "  </thead>\n",
       "  <tbody>\n",
       "    <tr>\n",
       "      <th>False</th>\n",
       "      <td>30.041161</td>\n",
       "      <td>404.154508</td>\n",
       "      <td>373.514471</td>\n",
       "      <td>168.143915</td>\n",
       "      <td>558.619330</td>\n",
       "      <td>537.887445</td>\n",
       "    </tr>\n",
       "    <tr>\n",
       "      <th>True</th>\n",
       "      <td>27.723113</td>\n",
       "      <td>64.533664</td>\n",
       "      <td>534.237135</td>\n",
       "      <td>191.589721</td>\n",
       "      <td>63.032371</td>\n",
       "      <td>69.289512</td>\n",
       "    </tr>\n",
       "  </tbody>\n",
       "</table>\n",
       "</div>"
      ],
      "text/plain": [
       "                   Age  RoomService   FoodCourt  ShoppingMall         Spa  \\\n",
       "Transported                                                                 \n",
       "False        30.041161   404.154508  373.514471    168.143915  558.619330   \n",
       "True         27.723113    64.533664  534.237135    191.589721   63.032371   \n",
       "\n",
       "                 VRDeck  \n",
       "Transported              \n",
       "False        537.887445  \n",
       "True          69.289512  "
      ]
     },
     "execution_count": 11,
     "metadata": {},
     "output_type": "execute_result"
    }
   ],
   "source": [
    "train.groupby(target)[num].mean()"
   ]
  },
  {
   "cell_type": "code",
   "execution_count": 12,
   "id": "357cc2ee",
   "metadata": {
    "execution": {
     "iopub.execute_input": "2024-04-16T00:48:51.173879Z",
     "iopub.status.busy": "2024-04-16T00:48:51.173498Z",
     "iopub.status.idle": "2024-04-16T00:48:51.185427Z",
     "shell.execute_reply": "2024-04-16T00:48:51.184480Z"
    },
    "papermill": {
     "duration": 0.032058,
     "end_time": "2024-04-16T00:48:51.187719",
     "exception": false,
     "start_time": "2024-04-16T00:48:51.155661",
     "status": "completed"
    },
    "tags": []
   },
   "outputs": [
    {
     "data": {
      "text/plain": [
       "HomePlanet\n",
       "Earth     0.427280\n",
       "Europa    0.660422\n",
       "Mars      0.512856\n",
       "Name: Transported, dtype: float64"
      ]
     },
     "execution_count": 12,
     "metadata": {},
     "output_type": "execute_result"
    }
   ],
   "source": [
    "train.groupby('HomePlanet')[target].mean()"
   ]
  },
  {
   "cell_type": "code",
   "execution_count": 13,
   "id": "d296ee55",
   "metadata": {
    "execution": {
     "iopub.execute_input": "2024-04-16T00:48:51.222701Z",
     "iopub.status.busy": "2024-04-16T00:48:51.222288Z",
     "iopub.status.idle": "2024-04-16T00:48:51.242079Z",
     "shell.execute_reply": "2024-04-16T00:48:51.240993Z"
    },
    "papermill": {
     "duration": 0.040195,
     "end_time": "2024-04-16T00:48:51.244456",
     "exception": false,
     "start_time": "2024-04-16T00:48:51.204261",
     "status": "completed"
    },
    "tags": []
   },
   "outputs": [
    {
     "data": {
      "text/html": [
       "<div>\n",
       "<style scoped>\n",
       "    .dataframe tbody tr th:only-of-type {\n",
       "        vertical-align: middle;\n",
       "    }\n",
       "\n",
       "    .dataframe tbody tr th {\n",
       "        vertical-align: top;\n",
       "    }\n",
       "\n",
       "    .dataframe thead th {\n",
       "        text-align: right;\n",
       "    }\n",
       "</style>\n",
       "<table border=\"1\" class=\"dataframe\">\n",
       "  <thead>\n",
       "    <tr style=\"text-align: right;\">\n",
       "      <th></th>\n",
       "      <th>mean</th>\n",
       "      <th>sum</th>\n",
       "      <th>count</th>\n",
       "    </tr>\n",
       "    <tr>\n",
       "      <th>CryoSleep</th>\n",
       "      <th></th>\n",
       "      <th></th>\n",
       "      <th></th>\n",
       "    </tr>\n",
       "  </thead>\n",
       "  <tbody>\n",
       "    <tr>\n",
       "      <th>False</th>\n",
       "      <td>0.328516</td>\n",
       "      <td>1432</td>\n",
       "      <td>4359</td>\n",
       "    </tr>\n",
       "    <tr>\n",
       "      <th>True</th>\n",
       "      <td>0.819381</td>\n",
       "      <td>1987</td>\n",
       "      <td>2425</td>\n",
       "    </tr>\n",
       "  </tbody>\n",
       "</table>\n",
       "</div>"
      ],
      "text/plain": [
       "               mean   sum  count\n",
       "CryoSleep                       \n",
       "False      0.328516  1432   4359\n",
       "True       0.819381  1987   2425"
      ]
     },
     "execution_count": 13,
     "metadata": {},
     "output_type": "execute_result"
    }
   ],
   "source": [
    "train.groupby('CryoSleep')[target].agg(['mean', 'sum', 'count'])"
   ]
  },
  {
   "cell_type": "code",
   "execution_count": 14,
   "id": "fb5b1dd1",
   "metadata": {
    "execution": {
     "iopub.execute_input": "2024-04-16T00:48:51.280716Z",
     "iopub.status.busy": "2024-04-16T00:48:51.280315Z",
     "iopub.status.idle": "2024-04-16T00:48:51.296650Z",
     "shell.execute_reply": "2024-04-16T00:48:51.295520Z"
    },
    "papermill": {
     "duration": 0.037426,
     "end_time": "2024-04-16T00:48:51.298888",
     "exception": false,
     "start_time": "2024-04-16T00:48:51.261462",
     "status": "completed"
    },
    "tags": []
   },
   "outputs": [
    {
     "data": {
      "text/plain": [
       "PassengerId     0.000000\n",
       "HomePlanet      0.022433\n",
       "CryoSleep       0.024446\n",
       "Cabin           0.021714\n",
       "Destination     0.021427\n",
       "Age             0.020995\n",
       "VIP             0.025309\n",
       "RoomService     0.021714\n",
       "FoodCourt       0.021283\n",
       "ShoppingMall    0.024734\n",
       "Spa             0.021858\n",
       "VRDeck          0.020995\n",
       "Name            0.022433\n",
       "Transported     0.000000\n",
       "dtype: float64"
      ]
     },
     "execution_count": 14,
     "metadata": {},
     "output_type": "execute_result"
    }
   ],
   "source": [
    "train.isnull().mean()"
   ]
  },
  {
   "cell_type": "code",
   "execution_count": 15,
   "id": "1d37f8be",
   "metadata": {
    "execution": {
     "iopub.execute_input": "2024-04-16T00:48:51.337878Z",
     "iopub.status.busy": "2024-04-16T00:48:51.335434Z",
     "iopub.status.idle": "2024-04-16T00:48:51.352056Z",
     "shell.execute_reply": "2024-04-16T00:48:51.350889Z"
    },
    "papermill": {
     "duration": 0.037867,
     "end_time": "2024-04-16T00:48:51.354324",
     "exception": false,
     "start_time": "2024-04-16T00:48:51.316457",
     "status": "completed"
    },
    "tags": []
   },
   "outputs": [
    {
     "data": {
      "text/html": [
       "<div>\n",
       "<style scoped>\n",
       "    .dataframe tbody tr th:only-of-type {\n",
       "        vertical-align: middle;\n",
       "    }\n",
       "\n",
       "    .dataframe tbody tr th {\n",
       "        vertical-align: top;\n",
       "    }\n",
       "\n",
       "    .dataframe thead th {\n",
       "        text-align: right;\n",
       "    }\n",
       "</style>\n",
       "<table border=\"1\" class=\"dataframe\">\n",
       "  <thead>\n",
       "    <tr style=\"text-align: right;\">\n",
       "      <th></th>\n",
       "      <th>mean</th>\n",
       "      <th>sum</th>\n",
       "      <th>count</th>\n",
       "    </tr>\n",
       "    <tr>\n",
       "      <th>Destination</th>\n",
       "      <th></th>\n",
       "      <th></th>\n",
       "      <th></th>\n",
       "    </tr>\n",
       "  </thead>\n",
       "  <tbody>\n",
       "    <tr>\n",
       "      <th>55 Cancri e</th>\n",
       "      <td>0.614525</td>\n",
       "      <td>880</td>\n",
       "      <td>1432</td>\n",
       "    </tr>\n",
       "    <tr>\n",
       "      <th>PSO J318.5-22</th>\n",
       "      <td>0.514469</td>\n",
       "      <td>320</td>\n",
       "      <td>622</td>\n",
       "    </tr>\n",
       "    <tr>\n",
       "      <th>TRAPPIST-1e</th>\n",
       "      <td>0.468954</td>\n",
       "      <td>2228</td>\n",
       "      <td>4751</td>\n",
       "    </tr>\n",
       "  </tbody>\n",
       "</table>\n",
       "</div>"
      ],
      "text/plain": [
       "                   mean   sum  count\n",
       "Destination                         \n",
       "55 Cancri e    0.614525   880   1432\n",
       "PSO J318.5-22  0.514469   320    622\n",
       "TRAPPIST-1e    0.468954  2228   4751"
      ]
     },
     "execution_count": 15,
     "metadata": {},
     "output_type": "execute_result"
    }
   ],
   "source": [
    "train.groupby('Destination')[target].agg(['mean', 'sum', 'count'])"
   ]
  },
  {
   "cell_type": "markdown",
   "id": "7f733a87",
   "metadata": {
    "papermill": {
     "duration": 0.017185,
     "end_time": "2024-04-16T00:48:51.388919",
     "exception": false,
     "start_time": "2024-04-16T00:48:51.371734",
     "status": "completed"
    },
    "tags": []
   },
   "source": [
    "# Model"
   ]
  },
  {
   "cell_type": "code",
   "execution_count": 16,
   "id": "d84d8929",
   "metadata": {
    "execution": {
     "iopub.execute_input": "2024-04-16T00:48:51.424877Z",
     "iopub.status.busy": "2024-04-16T00:48:51.424495Z",
     "iopub.status.idle": "2024-04-16T00:48:51.429281Z",
     "shell.execute_reply": "2024-04-16T00:48:51.428324Z"
    },
    "papermill": {
     "duration": 0.025362,
     "end_time": "2024-04-16T00:48:51.431408",
     "exception": false,
     "start_time": "2024-04-16T00:48:51.406046",
     "status": "completed"
    },
    "tags": []
   },
   "outputs": [],
   "source": [
    "from sklearn.base import BaseEstimator, TransformerMixin"
   ]
  },
  {
   "cell_type": "code",
   "execution_count": 17,
   "id": "ac732526",
   "metadata": {
    "execution": {
     "iopub.execute_input": "2024-04-16T00:48:51.468058Z",
     "iopub.status.busy": "2024-04-16T00:48:51.467635Z",
     "iopub.status.idle": "2024-04-16T00:48:51.474197Z",
     "shell.execute_reply": "2024-04-16T00:48:51.473082Z"
    },
    "papermill": {
     "duration": 0.027901,
     "end_time": "2024-04-16T00:48:51.476335",
     "exception": false,
     "start_time": "2024-04-16T00:48:51.448434",
     "status": "completed"
    },
    "tags": []
   },
   "outputs": [],
   "source": [
    "class DataSelect(BaseEstimator, TransformerMixin):\n",
    "    def __init__(self, attributes):\n",
    "        self.attributes = attributes\n",
    "    def fit(self, X, y=None):\n",
    "        return self\n",
    "    def transform(self, X, y=None):\n",
    "        return X[self.attributes]"
   ]
  },
  {
   "cell_type": "code",
   "execution_count": 18,
   "id": "72eaed3b",
   "metadata": {
    "execution": {
     "iopub.execute_input": "2024-04-16T00:48:51.512850Z",
     "iopub.status.busy": "2024-04-16T00:48:51.512459Z",
     "iopub.status.idle": "2024-04-16T00:48:51.696357Z",
     "shell.execute_reply": "2024-04-16T00:48:51.695452Z"
    },
    "papermill": {
     "duration": 0.205491,
     "end_time": "2024-04-16T00:48:51.699094",
     "exception": false,
     "start_time": "2024-04-16T00:48:51.493603",
     "status": "completed"
    },
    "tags": []
   },
   "outputs": [],
   "source": [
    "from sklearn.pipeline import Pipeline, FeatureUnion\n",
    "from sklearn.impute import SimpleImputer\n",
    "from sklearn.preprocessing import StandardScaler, OneHotEncoder"
   ]
  },
  {
   "cell_type": "code",
   "execution_count": 19,
   "id": "980d0435",
   "metadata": {
    "execution": {
     "iopub.execute_input": "2024-04-16T00:48:51.797347Z",
     "iopub.status.busy": "2024-04-16T00:48:51.796921Z",
     "iopub.status.idle": "2024-04-16T00:48:51.832687Z",
     "shell.execute_reply": "2024-04-16T00:48:51.831105Z"
    },
    "papermill": {
     "duration": 0.119319,
     "end_time": "2024-04-16T00:48:51.835507",
     "exception": false,
     "start_time": "2024-04-16T00:48:51.716188",
     "status": "completed"
    },
    "tags": []
   },
   "outputs": [],
   "source": [
    "cat_pp = Pipeline([\n",
    "    ('dataselect', DataSelect(['CryoSleep']))\n",
    "#     , ('impute', SimpleImputer(strategy='constant', fill_value='empty'))\n",
    "    , ('encoder', OneHotEncoder(sparse_output=False))\n",
    "])\n",
    "\n",
    "num_pp = Pipeline([\n",
    "    ('dataselect', DataSelect(num))\n",
    "    , ('impute', SimpleImputer(strategy='mean'))\n",
    "    , ('scaler', StandardScaler())\n",
    "])\n",
    "\n",
    "pipe = FeatureUnion([\n",
    "    ('cat', cat_pp)\n",
    "    , ('num', num_pp)\n",
    "])\n",
    "\n",
    "pipe.fit(train)\n",
    "train_pp = pipe.transform(train)\n",
    "test_pp = pipe.transform(test)"
   ]
  },
  {
   "cell_type": "markdown",
   "id": "a7c57765",
   "metadata": {
    "papermill": {
     "duration": 0.016962,
     "end_time": "2024-04-16T00:48:51.869527",
     "exception": false,
     "start_time": "2024-04-16T00:48:51.852565",
     "status": "completed"
    },
    "tags": []
   },
   "source": [
    "# Models"
   ]
  },
  {
   "cell_type": "code",
   "execution_count": 20,
   "id": "14ec905c",
   "metadata": {
    "execution": {
     "iopub.execute_input": "2024-04-16T00:48:51.905291Z",
     "iopub.status.busy": "2024-04-16T00:48:51.904823Z",
     "iopub.status.idle": "2024-04-16T00:48:52.012351Z",
     "shell.execute_reply": "2024-04-16T00:48:52.011131Z"
    },
    "papermill": {
     "duration": 0.128552,
     "end_time": "2024-04-16T00:48:52.015054",
     "exception": false,
     "start_time": "2024-04-16T00:48:51.886502",
     "status": "completed"
    },
    "tags": []
   },
   "outputs": [],
   "source": [
    "from sklearn.naive_bayes import GaussianNB\n",
    "from sklearn.svm import SVC\n",
    "from sklearn.tree import DecisionTreeClassifier\n",
    "from sklearn.ensemble import RandomForestClassifier\n",
    "\n",
    "from sklearn.model_selection import cross_val_score"
   ]
  },
  {
   "cell_type": "code",
   "execution_count": 21,
   "id": "1100be66",
   "metadata": {
    "execution": {
     "iopub.execute_input": "2024-04-16T00:48:52.052561Z",
     "iopub.status.busy": "2024-04-16T00:48:52.051824Z",
     "iopub.status.idle": "2024-04-16T00:48:52.096298Z",
     "shell.execute_reply": "2024-04-16T00:48:52.094980Z"
    },
    "papermill": {
     "duration": 0.065566,
     "end_time": "2024-04-16T00:48:52.098796",
     "exception": false,
     "start_time": "2024-04-16T00:48:52.033230",
     "status": "completed"
    },
    "tags": []
   },
   "outputs": [
    {
     "data": {
      "text/plain": [
       "0.7329603980367108"
      ]
     },
     "execution_count": 21,
     "metadata": {},
     "output_type": "execute_result"
    }
   ],
   "source": [
    "gnb = GaussianNB()\n",
    "gnb.fit(train_pp, train[target])\n",
    "cross_val_score(gnb, train_pp, train[target]).mean()"
   ]
  },
  {
   "cell_type": "code",
   "execution_count": 22,
   "id": "799b2ee3",
   "metadata": {
    "execution": {
     "iopub.execute_input": "2024-04-16T00:48:52.136222Z",
     "iopub.status.busy": "2024-04-16T00:48:52.135808Z",
     "iopub.status.idle": "2024-04-16T00:49:00.902289Z",
     "shell.execute_reply": "2024-04-16T00:49:00.901205Z"
    },
    "papermill": {
     "duration": 8.787891,
     "end_time": "2024-04-16T00:49:00.904800",
     "exception": false,
     "start_time": "2024-04-16T00:48:52.116909",
     "status": "completed"
    },
    "tags": []
   },
   "outputs": [
    {
     "data": {
      "text/plain": [
       "0.7909110468634439"
      ]
     },
     "execution_count": 22,
     "metadata": {},
     "output_type": "execute_result"
    }
   ],
   "source": [
    "svc = SVC()\n",
    "svc.fit(train_pp, train[target])\n",
    "cross_val_score(svc, train_pp, train[target]).mean()"
   ]
  },
  {
   "cell_type": "code",
   "execution_count": 23,
   "id": "e4c38405",
   "metadata": {
    "execution": {
     "iopub.execute_input": "2024-04-16T00:49:00.941533Z",
     "iopub.status.busy": "2024-04-16T00:49:00.941141Z",
     "iopub.status.idle": "2024-04-16T00:49:01.115646Z",
     "shell.execute_reply": "2024-04-16T00:49:01.114513Z"
    },
    "papermill": {
     "duration": 0.195712,
     "end_time": "2024-04-16T00:49:01.117943",
     "exception": false,
     "start_time": "2024-04-16T00:49:00.922231",
     "status": "completed"
    },
    "tags": []
   },
   "outputs": [
    {
     "data": {
      "text/plain": [
       "0.737127681032744"
      ]
     },
     "execution_count": 23,
     "metadata": {},
     "output_type": "execute_result"
    }
   ],
   "source": [
    "dcs = DecisionTreeClassifier()\n",
    "dcs.fit(train_pp, train[target])\n",
    "cross_val_score(dcs, train_pp, train[target]).mean()"
   ]
  },
  {
   "cell_type": "code",
   "execution_count": 24,
   "id": "23962222",
   "metadata": {
    "execution": {
     "iopub.execute_input": "2024-04-16T00:49:01.154957Z",
     "iopub.status.busy": "2024-04-16T00:49:01.154521Z",
     "iopub.status.idle": "2024-04-16T00:49:06.845911Z",
     "shell.execute_reply": "2024-04-16T00:49:06.845050Z"
    },
    "papermill": {
     "duration": 5.712637,
     "end_time": "2024-04-16T00:49:06.848201",
     "exception": false,
     "start_time": "2024-04-16T00:49:01.135564",
     "status": "completed"
    },
    "tags": []
   },
   "outputs": [
    {
     "data": {
      "text/plain": [
       "0.7865970860981955"
      ]
     },
     "execution_count": 24,
     "metadata": {},
     "output_type": "execute_result"
    }
   ],
   "source": [
    "rfc = RandomForestClassifier()\n",
    "rfc.fit(train_pp, train[target])\n",
    "cross_val_score(rfc, train_pp, train[target]).mean()"
   ]
  },
  {
   "cell_type": "code",
   "execution_count": 25,
   "id": "20a793f1",
   "metadata": {
    "execution": {
     "iopub.execute_input": "2024-04-16T00:49:06.887029Z",
     "iopub.status.busy": "2024-04-16T00:49:06.886312Z",
     "iopub.status.idle": "2024-04-16T00:49:06.890339Z",
     "shell.execute_reply": "2024-04-16T00:49:06.889557Z"
    },
    "papermill": {
     "duration": 0.026181,
     "end_time": "2024-04-16T00:49:06.892423",
     "exception": false,
     "start_time": "2024-04-16T00:49:06.866242",
     "status": "completed"
    },
    "tags": []
   },
   "outputs": [],
   "source": [
    "model_base = svc"
   ]
  },
  {
   "cell_type": "markdown",
   "id": "5e9d4fe2",
   "metadata": {
    "papermill": {
     "duration": 0.017614,
     "end_time": "2024-04-16T00:49:06.927859",
     "exception": false,
     "start_time": "2024-04-16T00:49:06.910245",
     "status": "completed"
    },
    "tags": []
   },
   "source": [
    "# Fine Tune"
   ]
  },
  {
   "cell_type": "code",
   "execution_count": 26,
   "id": "30db8226",
   "metadata": {
    "execution": {
     "iopub.execute_input": "2024-04-16T00:49:06.966104Z",
     "iopub.status.busy": "2024-04-16T00:49:06.965322Z",
     "iopub.status.idle": "2024-04-16T00:49:06.969897Z",
     "shell.execute_reply": "2024-04-16T00:49:06.969012Z"
    },
    "papermill": {
     "duration": 0.026731,
     "end_time": "2024-04-16T00:49:06.972492",
     "exception": false,
     "start_time": "2024-04-16T00:49:06.945761",
     "status": "completed"
    },
    "tags": []
   },
   "outputs": [],
   "source": [
    "from sklearn.model_selection import GridSearchCV"
   ]
  },
  {
   "cell_type": "code",
   "execution_count": 27,
   "id": "4abfebc9",
   "metadata": {
    "execution": {
     "iopub.execute_input": "2024-04-16T00:49:07.010315Z",
     "iopub.status.busy": "2024-04-16T00:49:07.009620Z",
     "iopub.status.idle": "2024-04-16T00:49:07.014596Z",
     "shell.execute_reply": "2024-04-16T00:49:07.013462Z"
    },
    "papermill": {
     "duration": 0.026472,
     "end_time": "2024-04-16T00:49:07.016993",
     "exception": false,
     "start_time": "2024-04-16T00:49:06.990521",
     "status": "completed"
    },
    "tags": []
   },
   "outputs": [],
   "source": [
    "# params = {\n",
    "#     \"kernel\": [\"poly\"]\n",
    "#     , \"degree\": [1, 10]\n",
    "#     , \"coef0\": [1, 50]\n",
    "#     , \"C\": [5]\n",
    "# }\n",
    "\n",
    "# grd = GridSearchCV(model_base, param_grid=params)\n",
    "# grd.fit(train_pp, train[target])\n",
    "# grd.best_params_"
   ]
  },
  {
   "cell_type": "code",
   "execution_count": 28,
   "id": "f0af6e5e",
   "metadata": {
    "execution": {
     "iopub.execute_input": "2024-04-16T00:49:07.054604Z",
     "iopub.status.busy": "2024-04-16T00:49:07.054208Z",
     "iopub.status.idle": "2024-04-16T00:49:16.698217Z",
     "shell.execute_reply": "2024-04-16T00:49:16.697062Z"
    },
    "papermill": {
     "duration": 9.666553,
     "end_time": "2024-04-16T00:49:16.701342",
     "exception": false,
     "start_time": "2024-04-16T00:49:07.034789",
     "status": "completed"
    },
    "tags": []
   },
   "outputs": [],
   "source": [
    "model_tune = SVC(kernel='poly', degree=3, coef0=1, C=5)\n",
    "model_tune.fit(train_pp, train[target]);"
   ]
  },
  {
   "cell_type": "markdown",
   "id": "5bfce51b",
   "metadata": {
    "papermill": {
     "duration": 0.017781,
     "end_time": "2024-04-16T00:49:16.737224",
     "exception": false,
     "start_time": "2024-04-16T00:49:16.719443",
     "status": "completed"
    },
    "tags": []
   },
   "source": [
    "# Validation"
   ]
  },
  {
   "cell_type": "code",
   "execution_count": 29,
   "id": "f165d9c9",
   "metadata": {
    "execution": {
     "iopub.execute_input": "2024-04-16T00:49:16.775562Z",
     "iopub.status.busy": "2024-04-16T00:49:16.775152Z",
     "iopub.status.idle": "2024-04-16T00:49:16.780675Z",
     "shell.execute_reply": "2024-04-16T00:49:16.779501Z"
    },
    "papermill": {
     "duration": 0.027711,
     "end_time": "2024-04-16T00:49:16.783188",
     "exception": false,
     "start_time": "2024-04-16T00:49:16.755477",
     "status": "completed"
    },
    "tags": []
   },
   "outputs": [],
   "source": [
    "from sklearn.model_selection import cross_val_predict\n",
    "\n",
    "from sklearn.metrics import accuracy_score, recall_score, precision_score, f1_score, roc_auc_score"
   ]
  },
  {
   "cell_type": "code",
   "execution_count": 30,
   "id": "f00e3e06",
   "metadata": {
    "execution": {
     "iopub.execute_input": "2024-04-16T00:49:16.821684Z",
     "iopub.status.busy": "2024-04-16T00:49:16.821265Z",
     "iopub.status.idle": "2024-04-16T00:49:23.665826Z",
     "shell.execute_reply": "2024-04-16T00:49:23.664522Z"
    },
    "papermill": {
     "duration": 6.867305,
     "end_time": "2024-04-16T00:49:23.668465",
     "exception": false,
     "start_time": "2024-04-16T00:49:16.801160",
     "status": "completed"
    },
    "tags": []
   },
   "outputs": [
    {
     "data": {
      "text/plain": [
       "0.7909117054932413"
      ]
     },
     "execution_count": 30,
     "metadata": {},
     "output_type": "execute_result"
    }
   ],
   "source": [
    "accuracy_score(train[target], cross_val_predict(model_base, train_pp, train[target]))"
   ]
  },
  {
   "cell_type": "code",
   "execution_count": 31,
   "id": "069199dc",
   "metadata": {
    "execution": {
     "iopub.execute_input": "2024-04-16T00:49:23.707732Z",
     "iopub.status.busy": "2024-04-16T00:49:23.706482Z",
     "iopub.status.idle": "2024-04-16T00:49:30.568130Z",
     "shell.execute_reply": "2024-04-16T00:49:30.566935Z"
    },
    "papermill": {
     "duration": 6.883859,
     "end_time": "2024-04-16T00:49:30.570579",
     "exception": false,
     "start_time": "2024-04-16T00:49:23.686720",
     "status": "completed"
    },
    "tags": []
   },
   "outputs": [
    {
     "data": {
      "text/plain": [
       "0.7907438955139126"
      ]
     },
     "execution_count": 31,
     "metadata": {},
     "output_type": "execute_result"
    }
   ],
   "source": [
    "precision_score(train[target], cross_val_predict(model_base, train_pp, train[target]))"
   ]
  },
  {
   "cell_type": "code",
   "execution_count": 32,
   "id": "5bf95813",
   "metadata": {
    "execution": {
     "iopub.execute_input": "2024-04-16T00:49:30.608686Z",
     "iopub.status.busy": "2024-04-16T00:49:30.607985Z",
     "iopub.status.idle": "2024-04-16T00:49:37.476150Z",
     "shell.execute_reply": "2024-04-16T00:49:37.474958Z"
    },
    "papermill": {
     "duration": 6.89038,
     "end_time": "2024-04-16T00:49:37.478820",
     "exception": false,
     "start_time": "2024-04-16T00:49:30.588440",
     "status": "completed"
    },
    "tags": []
   },
   "outputs": [
    {
     "data": {
      "text/plain": [
       "0.7952598515134209"
      ]
     },
     "execution_count": 32,
     "metadata": {},
     "output_type": "execute_result"
    }
   ],
   "source": [
    "recall_score(train[target], cross_val_predict(model_base, train_pp, train[target]))"
   ]
  },
  {
   "cell_type": "code",
   "execution_count": 33,
   "id": "7c0a53f5",
   "metadata": {
    "execution": {
     "iopub.execute_input": "2024-04-16T00:49:37.517225Z",
     "iopub.status.busy": "2024-04-16T00:49:37.516784Z",
     "iopub.status.idle": "2024-04-16T00:49:37.962214Z",
     "shell.execute_reply": "2024-04-16T00:49:37.961063Z"
    },
    "papermill": {
     "duration": 0.467719,
     "end_time": "2024-04-16T00:49:37.964838",
     "exception": false,
     "start_time": "2024-04-16T00:49:37.497119",
     "status": "completed"
    },
    "tags": []
   },
   "outputs": [
    {
     "data": {
      "text/plain": [
       "0.7745830937320299"
      ]
     },
     "execution_count": 33,
     "metadata": {},
     "output_type": "execute_result"
    }
   ],
   "source": [
    "accuracy_score(test[target], cross_val_predict(model_base, test_pp, test[target]))"
   ]
  },
  {
   "cell_type": "code",
   "execution_count": 34,
   "id": "1b2b7506",
   "metadata": {
    "execution": {
     "iopub.execute_input": "2024-04-16T00:49:38.004596Z",
     "iopub.status.busy": "2024-04-16T00:49:38.004161Z",
     "iopub.status.idle": "2024-04-16T00:49:38.456462Z",
     "shell.execute_reply": "2024-04-16T00:49:38.455194Z"
    },
    "papermill": {
     "duration": 0.475763,
     "end_time": "2024-04-16T00:49:38.458969",
     "exception": false,
     "start_time": "2024-04-16T00:49:37.983206",
     "status": "completed"
    },
    "tags": []
   },
   "outputs": [
    {
     "data": {
      "text/plain": [
       "0.7775229357798165"
      ]
     },
     "execution_count": 34,
     "metadata": {},
     "output_type": "execute_result"
    }
   ],
   "source": [
    "precision_score(test[target], cross_val_predict(model_base, test_pp, test[target]))"
   ]
  },
  {
   "cell_type": "code",
   "execution_count": 35,
   "id": "ddf8d1f7",
   "metadata": {
    "execution": {
     "iopub.execute_input": "2024-04-16T00:49:38.498389Z",
     "iopub.status.busy": "2024-04-16T00:49:38.497969Z",
     "iopub.status.idle": "2024-04-16T00:49:38.976652Z",
     "shell.execute_reply": "2024-04-16T00:49:38.975343Z"
    },
    "papermill": {
     "duration": 0.502089,
     "end_time": "2024-04-16T00:49:38.979716",
     "exception": false,
     "start_time": "2024-04-16T00:49:38.477627",
     "status": "completed"
    },
    "tags": []
   },
   "outputs": [
    {
     "data": {
      "text/plain": [
       "0.773972602739726"
      ]
     },
     "execution_count": 35,
     "metadata": {},
     "output_type": "execute_result"
    }
   ],
   "source": [
    "recall_score(test[target], cross_val_predict(model_base, test_pp, test[target]))"
   ]
  },
  {
   "cell_type": "code",
   "execution_count": 36,
   "id": "e3ef556c",
   "metadata": {
    "execution": {
     "iopub.execute_input": "2024-04-16T00:49:39.025298Z",
     "iopub.status.busy": "2024-04-16T00:49:39.024888Z",
     "iopub.status.idle": "2024-04-16T00:50:08.316828Z",
     "shell.execute_reply": "2024-04-16T00:50:08.315597Z"
    },
    "papermill": {
     "duration": 29.315883,
     "end_time": "2024-04-16T00:50:08.319780",
     "exception": false,
     "start_time": "2024-04-16T00:49:39.003897",
     "status": "completed"
    },
    "tags": []
   },
   "outputs": [],
   "source": [
    "tune_prediction_tr = cross_val_predict(model_tune, train_pp, train[target])\n",
    "tune_prediction_te = cross_val_predict(model_tune, test_pp, test[target])"
   ]
  },
  {
   "cell_type": "code",
   "execution_count": 37,
   "id": "f4f8de91",
   "metadata": {
    "execution": {
     "iopub.execute_input": "2024-04-16T00:50:08.359729Z",
     "iopub.status.busy": "2024-04-16T00:50:08.358908Z",
     "iopub.status.idle": "2024-04-16T00:50:08.367840Z",
     "shell.execute_reply": "2024-04-16T00:50:08.366756Z"
    },
    "papermill": {
     "duration": 0.031711,
     "end_time": "2024-04-16T00:50:08.370192",
     "exception": false,
     "start_time": "2024-04-16T00:50:08.338481",
     "status": "completed"
    },
    "tags": []
   },
   "outputs": [
    {
     "data": {
      "text/plain": [
       "0.7970951970089157"
      ]
     },
     "execution_count": 37,
     "metadata": {},
     "output_type": "execute_result"
    }
   ],
   "source": [
    "accuracy_score(train[target], tune_prediction_tr)"
   ]
  },
  {
   "cell_type": "code",
   "execution_count": 38,
   "id": "1ef3dd5c",
   "metadata": {
    "execution": {
     "iopub.execute_input": "2024-04-16T00:50:08.410488Z",
     "iopub.status.busy": "2024-04-16T00:50:08.409694Z",
     "iopub.status.idle": "2024-04-16T00:50:08.422561Z",
     "shell.execute_reply": "2024-04-16T00:50:08.421202Z"
    },
    "papermill": {
     "duration": 0.036065,
     "end_time": "2024-04-16T00:50:08.425183",
     "exception": false,
     "start_time": "2024-04-16T00:50:08.389118",
     "status": "completed"
    },
    "tags": []
   },
   "outputs": [
    {
     "data": {
      "text/plain": [
       "0.7854217854217854"
      ]
     },
     "execution_count": 38,
     "metadata": {},
     "output_type": "execute_result"
    }
   ],
   "source": [
    "precision_score(train[target], tune_prediction_tr)"
   ]
  },
  {
   "cell_type": "code",
   "execution_count": 39,
   "id": "b3e19e40",
   "metadata": {
    "execution": {
     "iopub.execute_input": "2024-04-16T00:50:08.466667Z",
     "iopub.status.busy": "2024-04-16T00:50:08.465891Z",
     "iopub.status.idle": "2024-04-16T00:50:08.479213Z",
     "shell.execute_reply": "2024-04-16T00:50:08.478048Z"
    },
    "papermill": {
     "duration": 0.036309,
     "end_time": "2024-04-16T00:50:08.481605",
     "exception": false,
     "start_time": "2024-04-16T00:50:08.445296",
     "status": "completed"
    },
    "tags": []
   },
   "outputs": [
    {
     "data": {
      "text/plain": [
       "0.8215305539691605"
      ]
     },
     "execution_count": 39,
     "metadata": {},
     "output_type": "execute_result"
    }
   ],
   "source": [
    "recall_score(train[target], tune_prediction_tr)"
   ]
  },
  {
   "cell_type": "code",
   "execution_count": 40,
   "id": "997573a6",
   "metadata": {
    "execution": {
     "iopub.execute_input": "2024-04-16T00:50:08.522874Z",
     "iopub.status.busy": "2024-04-16T00:50:08.522379Z",
     "iopub.status.idle": "2024-04-16T00:50:08.532376Z",
     "shell.execute_reply": "2024-04-16T00:50:08.531313Z"
    },
    "papermill": {
     "duration": 0.033745,
     "end_time": "2024-04-16T00:50:08.534591",
     "exception": false,
     "start_time": "2024-04-16T00:50:08.500846",
     "status": "completed"
    },
    "tags": []
   },
   "outputs": [
    {
     "data": {
      "text/plain": [
       "0.7740080506037953"
      ]
     },
     "execution_count": 40,
     "metadata": {},
     "output_type": "execute_result"
    }
   ],
   "source": [
    "accuracy_score(test[target], tune_prediction_te)"
   ]
  },
  {
   "cell_type": "code",
   "execution_count": 41,
   "id": "5b9671a5",
   "metadata": {
    "execution": {
     "iopub.execute_input": "2024-04-16T00:50:08.575259Z",
     "iopub.status.busy": "2024-04-16T00:50:08.574564Z",
     "iopub.status.idle": "2024-04-16T00:50:08.585351Z",
     "shell.execute_reply": "2024-04-16T00:50:08.584198Z"
    },
    "papermill": {
     "duration": 0.033967,
     "end_time": "2024-04-16T00:50:08.587830",
     "exception": false,
     "start_time": "2024-04-16T00:50:08.553863",
     "status": "completed"
    },
    "tags": []
   },
   "outputs": [
    {
     "data": {
      "text/plain": [
       "0.764512595837897"
      ]
     },
     "execution_count": 41,
     "metadata": {},
     "output_type": "execute_result"
    }
   ],
   "source": [
    "precision_score(test[target], tune_prediction_te)"
   ]
  },
  {
   "cell_type": "code",
   "execution_count": 42,
   "id": "91d0f09a",
   "metadata": {
    "execution": {
     "iopub.execute_input": "2024-04-16T00:50:08.628798Z",
     "iopub.status.busy": "2024-04-16T00:50:08.627990Z",
     "iopub.status.idle": "2024-04-16T00:50:08.639152Z",
     "shell.execute_reply": "2024-04-16T00:50:08.638081Z"
    },
    "papermill": {
     "duration": 0.034343,
     "end_time": "2024-04-16T00:50:08.641503",
     "exception": false,
     "start_time": "2024-04-16T00:50:08.607160",
     "status": "completed"
    },
    "tags": []
   },
   "outputs": [
    {
     "data": {
      "text/plain": [
       "0.7968036529680366"
      ]
     },
     "execution_count": 42,
     "metadata": {},
     "output_type": "execute_result"
    }
   ],
   "source": [
    "recall_score(test[target], tune_prediction_te)"
   ]
  },
  {
   "cell_type": "markdown",
   "id": "72c691a6",
   "metadata": {
    "papermill": {
     "duration": 0.019413,
     "end_time": "2024-04-16T00:50:08.680755",
     "exception": false,
     "start_time": "2024-04-16T00:50:08.661342",
     "status": "completed"
    },
    "tags": []
   },
   "source": [
    "# Submission"
   ]
  },
  {
   "cell_type": "code",
   "execution_count": 43,
   "id": "86e42d27",
   "metadata": {
    "execution": {
     "iopub.execute_input": "2024-04-16T00:50:08.721850Z",
     "iopub.status.busy": "2024-04-16T00:50:08.721130Z",
     "iopub.status.idle": "2024-04-16T00:50:09.168623Z",
     "shell.execute_reply": "2024-04-16T00:50:09.167555Z"
    },
    "papermill": {
     "duration": 0.471066,
     "end_time": "2024-04-16T00:50:09.171244",
     "exception": false,
     "start_time": "2024-04-16T00:50:08.700178",
     "status": "completed"
    },
    "tags": []
   },
   "outputs": [],
   "source": [
    "samp = pd.read_csv('/kaggle/input/spaceship-titanic/test.csv')\n",
    "pd.DataFrame({\n",
    "    \"PassengerId\": samp[\"PassengerId\"]\n",
    "    , \"Transported\": model_tune.predict(pipe.transform(samp))\n",
    "}).to_csv('submission.csv', index=False)"
   ]
  },
  {
   "cell_type": "code",
   "execution_count": null,
   "id": "ab3c1d40",
   "metadata": {
    "papermill": {
     "duration": 0.019347,
     "end_time": "2024-04-16T00:50:09.210971",
     "exception": false,
     "start_time": "2024-04-16T00:50:09.191624",
     "status": "completed"
    },
    "tags": []
   },
   "outputs": [],
   "source": []
  }
 ],
 "metadata": {
  "kaggle": {
   "accelerator": "none",
   "dataSources": [
    {
     "databundleVersionId": 3220602,
     "sourceId": 34377,
     "sourceType": "competition"
    }
   ],
   "dockerImageVersionId": 30684,
   "isGpuEnabled": false,
   "isInternetEnabled": true,
   "language": "python",
   "sourceType": "notebook"
  },
  "kernelspec": {
   "display_name": "Python 3 (ipykernel)",
   "language": "python",
   "name": "python3"
  },
  "language_info": {
   "codemirror_mode": {
    "name": "ipython",
    "version": 3
   },
   "file_extension": ".py",
   "mimetype": "text/x-python",
   "name": "python",
   "nbconvert_exporter": "python",
   "pygments_lexer": "ipython3",
   "version": "3.10.13"
  },
  "papermill": {
   "default_parameters": {},
   "duration": 85.216903,
   "end_time": "2024-04-16T00:50:09.852101",
   "environment_variables": {},
   "exception": null,
   "input_path": "__notebook__.ipynb",
   "output_path": "__notebook__.ipynb",
   "parameters": {},
   "start_time": "2024-04-16T00:48:44.635198",
   "version": "2.5.0"
  }
 },
 "nbformat": 4,
 "nbformat_minor": 5
}
