{
 "cells": [
  {
   "cell_type": "code",
   "execution_count": 1,
   "id": "b9f9620e",
   "metadata": {
    "execution": {
     "iopub.execute_input": "2024-04-15T01:06:56.292651Z",
     "iopub.status.busy": "2024-04-15T01:06:56.292217Z",
     "iopub.status.idle": "2024-04-15T01:06:59.085494Z",
     "shell.execute_reply": "2024-04-15T01:06:59.084371Z"
    },
    "papermill": {
     "duration": 2.807708,
     "end_time": "2024-04-15T01:06:59.088764",
     "exception": false,
     "start_time": "2024-04-15T01:06:56.281056",
     "status": "completed"
    },
    "tags": []
   },
   "outputs": [],
   "source": [
    "import pandas as pd\n",
    "import numpy as np\n",
    "import seaborn as sns"
   ]
  },
  {
   "cell_type": "code",
   "execution_count": 2,
   "id": "5fffb79b",
   "metadata": {
    "execution": {
     "iopub.execute_input": "2024-04-15T01:06:59.107046Z",
     "iopub.status.busy": "2024-04-15T01:06:59.106458Z",
     "iopub.status.idle": "2024-04-15T01:06:59.174338Z",
     "shell.execute_reply": "2024-04-15T01:06:59.173106Z"
    },
    "papermill": {
     "duration": 0.080186,
     "end_time": "2024-04-15T01:06:59.177374",
     "exception": false,
     "start_time": "2024-04-15T01:06:59.097188",
     "status": "completed"
    },
    "tags": []
   },
   "outputs": [],
   "source": [
    "df = pd.read_csv('/kaggle/input/spaceship-titanic/train.csv')"
   ]
  },
  {
   "cell_type": "code",
   "execution_count": 3,
   "id": "2467a9b1",
   "metadata": {
    "execution": {
     "iopub.execute_input": "2024-04-15T01:06:59.194716Z",
     "iopub.status.busy": "2024-04-15T01:06:59.194275Z",
     "iopub.status.idle": "2024-04-15T01:06:59.226834Z",
     "shell.execute_reply": "2024-04-15T01:06:59.225361Z"
    },
    "papermill": {
     "duration": 0.044702,
     "end_time": "2024-04-15T01:06:59.229857",
     "exception": false,
     "start_time": "2024-04-15T01:06:59.185155",
     "status": "completed"
    },
    "tags": []
   },
   "outputs": [
    {
     "data": {
      "text/html": [
       "<div>\n",
       "<style scoped>\n",
       "    .dataframe tbody tr th:only-of-type {\n",
       "        vertical-align: middle;\n",
       "    }\n",
       "\n",
       "    .dataframe tbody tr th {\n",
       "        vertical-align: top;\n",
       "    }\n",
       "\n",
       "    .dataframe thead th {\n",
       "        text-align: right;\n",
       "    }\n",
       "</style>\n",
       "<table border=\"1\" class=\"dataframe\">\n",
       "  <thead>\n",
       "    <tr style=\"text-align: right;\">\n",
       "      <th></th>\n",
       "      <th>PassengerId</th>\n",
       "      <th>HomePlanet</th>\n",
       "      <th>CryoSleep</th>\n",
       "      <th>Cabin</th>\n",
       "      <th>Destination</th>\n",
       "      <th>Age</th>\n",
       "      <th>VIP</th>\n",
       "      <th>RoomService</th>\n",
       "      <th>FoodCourt</th>\n",
       "      <th>ShoppingMall</th>\n",
       "      <th>Spa</th>\n",
       "      <th>VRDeck</th>\n",
       "      <th>Name</th>\n",
       "      <th>Transported</th>\n",
       "    </tr>\n",
       "  </thead>\n",
       "  <tbody>\n",
       "    <tr>\n",
       "      <th>0</th>\n",
       "      <td>0001_01</td>\n",
       "      <td>Europa</td>\n",
       "      <td>False</td>\n",
       "      <td>B/0/P</td>\n",
       "      <td>TRAPPIST-1e</td>\n",
       "      <td>39.0</td>\n",
       "      <td>False</td>\n",
       "      <td>0.0</td>\n",
       "      <td>0.0</td>\n",
       "      <td>0.0</td>\n",
       "      <td>0.0</td>\n",
       "      <td>0.0</td>\n",
       "      <td>Maham Ofracculy</td>\n",
       "      <td>False</td>\n",
       "    </tr>\n",
       "    <tr>\n",
       "      <th>1</th>\n",
       "      <td>0002_01</td>\n",
       "      <td>Earth</td>\n",
       "      <td>False</td>\n",
       "      <td>F/0/S</td>\n",
       "      <td>TRAPPIST-1e</td>\n",
       "      <td>24.0</td>\n",
       "      <td>False</td>\n",
       "      <td>109.0</td>\n",
       "      <td>9.0</td>\n",
       "      <td>25.0</td>\n",
       "      <td>549.0</td>\n",
       "      <td>44.0</td>\n",
       "      <td>Juanna Vines</td>\n",
       "      <td>True</td>\n",
       "    </tr>\n",
       "    <tr>\n",
       "      <th>2</th>\n",
       "      <td>0003_01</td>\n",
       "      <td>Europa</td>\n",
       "      <td>False</td>\n",
       "      <td>A/0/S</td>\n",
       "      <td>TRAPPIST-1e</td>\n",
       "      <td>58.0</td>\n",
       "      <td>True</td>\n",
       "      <td>43.0</td>\n",
       "      <td>3576.0</td>\n",
       "      <td>0.0</td>\n",
       "      <td>6715.0</td>\n",
       "      <td>49.0</td>\n",
       "      <td>Altark Susent</td>\n",
       "      <td>False</td>\n",
       "    </tr>\n",
       "    <tr>\n",
       "      <th>3</th>\n",
       "      <td>0003_02</td>\n",
       "      <td>Europa</td>\n",
       "      <td>False</td>\n",
       "      <td>A/0/S</td>\n",
       "      <td>TRAPPIST-1e</td>\n",
       "      <td>33.0</td>\n",
       "      <td>False</td>\n",
       "      <td>0.0</td>\n",
       "      <td>1283.0</td>\n",
       "      <td>371.0</td>\n",
       "      <td>3329.0</td>\n",
       "      <td>193.0</td>\n",
       "      <td>Solam Susent</td>\n",
       "      <td>False</td>\n",
       "    </tr>\n",
       "    <tr>\n",
       "      <th>4</th>\n",
       "      <td>0004_01</td>\n",
       "      <td>Earth</td>\n",
       "      <td>False</td>\n",
       "      <td>F/1/S</td>\n",
       "      <td>TRAPPIST-1e</td>\n",
       "      <td>16.0</td>\n",
       "      <td>False</td>\n",
       "      <td>303.0</td>\n",
       "      <td>70.0</td>\n",
       "      <td>151.0</td>\n",
       "      <td>565.0</td>\n",
       "      <td>2.0</td>\n",
       "      <td>Willy Santantines</td>\n",
       "      <td>True</td>\n",
       "    </tr>\n",
       "  </tbody>\n",
       "</table>\n",
       "</div>"
      ],
      "text/plain": [
       "  PassengerId HomePlanet CryoSleep  Cabin  Destination   Age    VIP  \\\n",
       "0     0001_01     Europa     False  B/0/P  TRAPPIST-1e  39.0  False   \n",
       "1     0002_01      Earth     False  F/0/S  TRAPPIST-1e  24.0  False   \n",
       "2     0003_01     Europa     False  A/0/S  TRAPPIST-1e  58.0   True   \n",
       "3     0003_02     Europa     False  A/0/S  TRAPPIST-1e  33.0  False   \n",
       "4     0004_01      Earth     False  F/1/S  TRAPPIST-1e  16.0  False   \n",
       "\n",
       "   RoomService  FoodCourt  ShoppingMall     Spa  VRDeck               Name  \\\n",
       "0          0.0        0.0           0.0     0.0     0.0    Maham Ofracculy   \n",
       "1        109.0        9.0          25.0   549.0    44.0       Juanna Vines   \n",
       "2         43.0     3576.0           0.0  6715.0    49.0      Altark Susent   \n",
       "3          0.0     1283.0         371.0  3329.0   193.0       Solam Susent   \n",
       "4        303.0       70.0         151.0   565.0     2.0  Willy Santantines   \n",
       "\n",
       "   Transported  \n",
       "0        False  \n",
       "1         True  \n",
       "2        False  \n",
       "3        False  \n",
       "4         True  "
      ]
     },
     "execution_count": 3,
     "metadata": {},
     "output_type": "execute_result"
    }
   ],
   "source": [
    "df.head()"
   ]
  },
  {
   "cell_type": "code",
   "execution_count": 4,
   "id": "b128e8d1",
   "metadata": {
    "execution": {
     "iopub.execute_input": "2024-04-15T01:06:59.247917Z",
     "iopub.status.busy": "2024-04-15T01:06:59.247540Z",
     "iopub.status.idle": "2024-04-15T01:06:59.255850Z",
     "shell.execute_reply": "2024-04-15T01:06:59.254721Z"
    },
    "papermill": {
     "duration": 0.01977,
     "end_time": "2024-04-15T01:06:59.258028",
     "exception": false,
     "start_time": "2024-04-15T01:06:59.238258",
     "status": "completed"
    },
    "tags": []
   },
   "outputs": [
    {
     "data": {
      "text/plain": [
       "Index(['PassengerId', 'HomePlanet', 'CryoSleep', 'Cabin', 'Destination', 'Age',\n",
       "       'VIP', 'RoomService', 'FoodCourt', 'ShoppingMall', 'Spa', 'VRDeck',\n",
       "       'Name', 'Transported'],\n",
       "      dtype='object')"
      ]
     },
     "execution_count": 4,
     "metadata": {},
     "output_type": "execute_result"
    }
   ],
   "source": [
    "df.columns"
   ]
  },
  {
   "cell_type": "code",
   "execution_count": 5,
   "id": "ff575665",
   "metadata": {
    "execution": {
     "iopub.execute_input": "2024-04-15T01:06:59.277111Z",
     "iopub.status.busy": "2024-04-15T01:06:59.276199Z",
     "iopub.status.idle": "2024-04-15T01:06:59.284799Z",
     "shell.execute_reply": "2024-04-15T01:06:59.283256Z"
    },
    "papermill": {
     "duration": 0.021034,
     "end_time": "2024-04-15T01:06:59.287253",
     "exception": false,
     "start_time": "2024-04-15T01:06:59.266219",
     "status": "completed"
    },
    "tags": []
   },
   "outputs": [
    {
     "data": {
      "text/plain": [
       "PassengerId      object\n",
       "HomePlanet       object\n",
       "CryoSleep        object\n",
       "Cabin            object\n",
       "Destination      object\n",
       "Age             float64\n",
       "VIP              object\n",
       "RoomService     float64\n",
       "FoodCourt       float64\n",
       "ShoppingMall    float64\n",
       "Spa             float64\n",
       "VRDeck          float64\n",
       "Name             object\n",
       "Transported        bool\n",
       "dtype: object"
      ]
     },
     "execution_count": 5,
     "metadata": {},
     "output_type": "execute_result"
    }
   ],
   "source": [
    "df.dtypes"
   ]
  },
  {
   "cell_type": "code",
   "execution_count": 6,
   "id": "ddcc02ba",
   "metadata": {
    "execution": {
     "iopub.execute_input": "2024-04-15T01:06:59.306690Z",
     "iopub.status.busy": "2024-04-15T01:06:59.306205Z",
     "iopub.status.idle": "2024-04-15T01:06:59.317050Z",
     "shell.execute_reply": "2024-04-15T01:06:59.315925Z"
    },
    "papermill": {
     "duration": 0.023389,
     "end_time": "2024-04-15T01:06:59.319347",
     "exception": false,
     "start_time": "2024-04-15T01:06:59.295958",
     "status": "completed"
    },
    "tags": []
   },
   "outputs": [],
   "source": [
    "target = 'Transported'\n",
    "num = [x for x in df.columns if df.dtypes[x] in ['float64']]\n",
    "cat = [x for x in df.columns if df.dtypes[x] == 'object']\n",
    "cat.remove('PassengerId')"
   ]
  },
  {
   "cell_type": "code",
   "execution_count": 7,
   "id": "534b6195",
   "metadata": {
    "execution": {
     "iopub.execute_input": "2024-04-15T01:06:59.338028Z",
     "iopub.status.busy": "2024-04-15T01:06:59.337599Z",
     "iopub.status.idle": "2024-04-15T01:06:59.738646Z",
     "shell.execute_reply": "2024-04-15T01:06:59.737325Z"
    },
    "papermill": {
     "duration": 0.413548,
     "end_time": "2024-04-15T01:06:59.741462",
     "exception": false,
     "start_time": "2024-04-15T01:06:59.327914",
     "status": "completed"
    },
    "tags": []
   },
   "outputs": [],
   "source": [
    "from sklearn.model_selection import train_test_split\n",
    "train, test = train_test_split(df, test_size=.2, random_state=0)"
   ]
  },
  {
   "cell_type": "markdown",
   "id": "81b54289",
   "metadata": {
    "papermill": {
     "duration": 0.008076,
     "end_time": "2024-04-15T01:06:59.758434",
     "exception": false,
     "start_time": "2024-04-15T01:06:59.750358",
     "status": "completed"
    },
    "tags": []
   },
   "source": [
    "# Explore"
   ]
  },
  {
   "cell_type": "code",
   "execution_count": 8,
   "id": "cbc54980",
   "metadata": {
    "execution": {
     "iopub.execute_input": "2024-04-15T01:06:59.776941Z",
     "iopub.status.busy": "2024-04-15T01:06:59.776509Z",
     "iopub.status.idle": "2024-04-15T01:06:59.785818Z",
     "shell.execute_reply": "2024-04-15T01:06:59.784658Z"
    },
    "papermill": {
     "duration": 0.021542,
     "end_time": "2024-04-15T01:06:59.788328",
     "exception": false,
     "start_time": "2024-04-15T01:06:59.766786",
     "status": "completed"
    },
    "tags": []
   },
   "outputs": [
    {
     "data": {
      "text/plain": [
       "0.5035950532067874"
      ]
     },
     "execution_count": 8,
     "metadata": {},
     "output_type": "execute_result"
    }
   ],
   "source": [
    "train[target].mean()"
   ]
  },
  {
   "cell_type": "code",
   "execution_count": 9,
   "id": "47c21db5",
   "metadata": {
    "execution": {
     "iopub.execute_input": "2024-04-15T01:06:59.808543Z",
     "iopub.status.busy": "2024-04-15T01:06:59.808087Z",
     "iopub.status.idle": "2024-04-15T01:06:59.815612Z",
     "shell.execute_reply": "2024-04-15T01:06:59.814473Z"
    },
    "papermill": {
     "duration": 0.020157,
     "end_time": "2024-04-15T01:06:59.818157",
     "exception": false,
     "start_time": "2024-04-15T01:06:59.798000",
     "status": "completed"
    },
    "tags": []
   },
   "outputs": [
    {
     "data": {
      "text/plain": [
       "['Age', 'RoomService', 'FoodCourt', 'ShoppingMall', 'Spa', 'VRDeck']"
      ]
     },
     "execution_count": 9,
     "metadata": {},
     "output_type": "execute_result"
    }
   ],
   "source": [
    "num"
   ]
  },
  {
   "cell_type": "code",
   "execution_count": 10,
   "id": "15164514",
   "metadata": {
    "execution": {
     "iopub.execute_input": "2024-04-15T01:06:59.837359Z",
     "iopub.status.busy": "2024-04-15T01:06:59.836901Z",
     "iopub.status.idle": "2024-04-15T01:06:59.843913Z",
     "shell.execute_reply": "2024-04-15T01:06:59.842745Z"
    },
    "papermill": {
     "duration": 0.019573,
     "end_time": "2024-04-15T01:06:59.846481",
     "exception": false,
     "start_time": "2024-04-15T01:06:59.826908",
     "status": "completed"
    },
    "tags": []
   },
   "outputs": [
    {
     "data": {
      "text/plain": [
       "['HomePlanet', 'CryoSleep', 'Cabin', 'Destination', 'VIP', 'Name']"
      ]
     },
     "execution_count": 10,
     "metadata": {},
     "output_type": "execute_result"
    }
   ],
   "source": [
    "cat"
   ]
  },
  {
   "cell_type": "code",
   "execution_count": 11,
   "id": "8e950bd5",
   "metadata": {
    "execution": {
     "iopub.execute_input": "2024-04-15T01:06:59.866039Z",
     "iopub.status.busy": "2024-04-15T01:06:59.865592Z",
     "iopub.status.idle": "2024-04-15T01:06:59.888237Z",
     "shell.execute_reply": "2024-04-15T01:06:59.887139Z"
    },
    "papermill": {
     "duration": 0.035438,
     "end_time": "2024-04-15T01:06:59.890778",
     "exception": false,
     "start_time": "2024-04-15T01:06:59.855340",
     "status": "completed"
    },
    "tags": []
   },
   "outputs": [
    {
     "data": {
      "text/html": [
       "<div>\n",
       "<style scoped>\n",
       "    .dataframe tbody tr th:only-of-type {\n",
       "        vertical-align: middle;\n",
       "    }\n",
       "\n",
       "    .dataframe tbody tr th {\n",
       "        vertical-align: top;\n",
       "    }\n",
       "\n",
       "    .dataframe thead th {\n",
       "        text-align: right;\n",
       "    }\n",
       "</style>\n",
       "<table border=\"1\" class=\"dataframe\">\n",
       "  <thead>\n",
       "    <tr style=\"text-align: right;\">\n",
       "      <th></th>\n",
       "      <th>Age</th>\n",
       "      <th>RoomService</th>\n",
       "      <th>FoodCourt</th>\n",
       "      <th>ShoppingMall</th>\n",
       "      <th>Spa</th>\n",
       "      <th>VRDeck</th>\n",
       "    </tr>\n",
       "    <tr>\n",
       "      <th>Transported</th>\n",
       "      <th></th>\n",
       "      <th></th>\n",
       "      <th></th>\n",
       "      <th></th>\n",
       "      <th></th>\n",
       "      <th></th>\n",
       "    </tr>\n",
       "  </thead>\n",
       "  <tbody>\n",
       "    <tr>\n",
       "      <th>False</th>\n",
       "      <td>30.041161</td>\n",
       "      <td>404.154508</td>\n",
       "      <td>373.514471</td>\n",
       "      <td>168.143915</td>\n",
       "      <td>558.619330</td>\n",
       "      <td>537.887445</td>\n",
       "    </tr>\n",
       "    <tr>\n",
       "      <th>True</th>\n",
       "      <td>27.723113</td>\n",
       "      <td>64.533664</td>\n",
       "      <td>534.237135</td>\n",
       "      <td>191.589721</td>\n",
       "      <td>63.032371</td>\n",
       "      <td>69.289512</td>\n",
       "    </tr>\n",
       "  </tbody>\n",
       "</table>\n",
       "</div>"
      ],
      "text/plain": [
       "                   Age  RoomService   FoodCourt  ShoppingMall         Spa  \\\n",
       "Transported                                                                 \n",
       "False        30.041161   404.154508  373.514471    168.143915  558.619330   \n",
       "True         27.723113    64.533664  534.237135    191.589721   63.032371   \n",
       "\n",
       "                 VRDeck  \n",
       "Transported              \n",
       "False        537.887445  \n",
       "True          69.289512  "
      ]
     },
     "execution_count": 11,
     "metadata": {},
     "output_type": "execute_result"
    }
   ],
   "source": [
    "train.groupby(target)[num].mean()"
   ]
  },
  {
   "cell_type": "code",
   "execution_count": 12,
   "id": "d6ad7dcd",
   "metadata": {
    "execution": {
     "iopub.execute_input": "2024-04-15T01:06:59.911614Z",
     "iopub.status.busy": "2024-04-15T01:06:59.911178Z",
     "iopub.status.idle": "2024-04-15T01:06:59.923913Z",
     "shell.execute_reply": "2024-04-15T01:06:59.922775Z"
    },
    "papermill": {
     "duration": 0.026259,
     "end_time": "2024-04-15T01:06:59.926362",
     "exception": false,
     "start_time": "2024-04-15T01:06:59.900103",
     "status": "completed"
    },
    "tags": []
   },
   "outputs": [
    {
     "data": {
      "text/plain": [
       "HomePlanet\n",
       "Earth     0.427280\n",
       "Europa    0.660422\n",
       "Mars      0.512856\n",
       "Name: Transported, dtype: float64"
      ]
     },
     "execution_count": 12,
     "metadata": {},
     "output_type": "execute_result"
    }
   ],
   "source": [
    "train.groupby('HomePlanet')[target].mean()"
   ]
  },
  {
   "cell_type": "code",
   "execution_count": 13,
   "id": "2f2b852c",
   "metadata": {
    "execution": {
     "iopub.execute_input": "2024-04-15T01:06:59.946924Z",
     "iopub.status.busy": "2024-04-15T01:06:59.946544Z",
     "iopub.status.idle": "2024-04-15T01:06:59.967697Z",
     "shell.execute_reply": "2024-04-15T01:06:59.966795Z"
    },
    "papermill": {
     "duration": 0.034234,
     "end_time": "2024-04-15T01:06:59.969999",
     "exception": false,
     "start_time": "2024-04-15T01:06:59.935765",
     "status": "completed"
    },
    "tags": []
   },
   "outputs": [
    {
     "data": {
      "text/html": [
       "<div>\n",
       "<style scoped>\n",
       "    .dataframe tbody tr th:only-of-type {\n",
       "        vertical-align: middle;\n",
       "    }\n",
       "\n",
       "    .dataframe tbody tr th {\n",
       "        vertical-align: top;\n",
       "    }\n",
       "\n",
       "    .dataframe thead th {\n",
       "        text-align: right;\n",
       "    }\n",
       "</style>\n",
       "<table border=\"1\" class=\"dataframe\">\n",
       "  <thead>\n",
       "    <tr style=\"text-align: right;\">\n",
       "      <th></th>\n",
       "      <th>mean</th>\n",
       "      <th>sum</th>\n",
       "      <th>count</th>\n",
       "    </tr>\n",
       "    <tr>\n",
       "      <th>CryoSleep</th>\n",
       "      <th></th>\n",
       "      <th></th>\n",
       "      <th></th>\n",
       "    </tr>\n",
       "  </thead>\n",
       "  <tbody>\n",
       "    <tr>\n",
       "      <th>False</th>\n",
       "      <td>0.328516</td>\n",
       "      <td>1432</td>\n",
       "      <td>4359</td>\n",
       "    </tr>\n",
       "    <tr>\n",
       "      <th>True</th>\n",
       "      <td>0.819381</td>\n",
       "      <td>1987</td>\n",
       "      <td>2425</td>\n",
       "    </tr>\n",
       "  </tbody>\n",
       "</table>\n",
       "</div>"
      ],
      "text/plain": [
       "               mean   sum  count\n",
       "CryoSleep                       \n",
       "False      0.328516  1432   4359\n",
       "True       0.819381  1987   2425"
      ]
     },
     "execution_count": 13,
     "metadata": {},
     "output_type": "execute_result"
    }
   ],
   "source": [
    "train.groupby('CryoSleep')[target].agg(['mean', 'sum', 'count'])"
   ]
  },
  {
   "cell_type": "code",
   "execution_count": 14,
   "id": "2d8130e0",
   "metadata": {
    "execution": {
     "iopub.execute_input": "2024-04-15T01:06:59.991070Z",
     "iopub.status.busy": "2024-04-15T01:06:59.990639Z",
     "iopub.status.idle": "2024-04-15T01:07:00.007054Z",
     "shell.execute_reply": "2024-04-15T01:07:00.005903Z"
    },
    "papermill": {
     "duration": 0.029912,
     "end_time": "2024-04-15T01:07:00.009544",
     "exception": false,
     "start_time": "2024-04-15T01:06:59.979632",
     "status": "completed"
    },
    "tags": []
   },
   "outputs": [
    {
     "data": {
      "text/plain": [
       "PassengerId     0.000000\n",
       "HomePlanet      0.022433\n",
       "CryoSleep       0.024446\n",
       "Cabin           0.021714\n",
       "Destination     0.021427\n",
       "Age             0.020995\n",
       "VIP             0.025309\n",
       "RoomService     0.021714\n",
       "FoodCourt       0.021283\n",
       "ShoppingMall    0.024734\n",
       "Spa             0.021858\n",
       "VRDeck          0.020995\n",
       "Name            0.022433\n",
       "Transported     0.000000\n",
       "dtype: float64"
      ]
     },
     "execution_count": 14,
     "metadata": {},
     "output_type": "execute_result"
    }
   ],
   "source": [
    "train.isnull().mean()"
   ]
  },
  {
   "cell_type": "code",
   "execution_count": 15,
   "id": "b679972a",
   "metadata": {
    "execution": {
     "iopub.execute_input": "2024-04-15T01:07:00.030916Z",
     "iopub.status.busy": "2024-04-15T01:07:00.029958Z",
     "iopub.status.idle": "2024-04-15T01:07:00.043662Z",
     "shell.execute_reply": "2024-04-15T01:07:00.042809Z"
    },
    "papermill": {
     "duration": 0.026707,
     "end_time": "2024-04-15T01:07:00.045814",
     "exception": false,
     "start_time": "2024-04-15T01:07:00.019107",
     "status": "completed"
    },
    "tags": []
   },
   "outputs": [
    {
     "data": {
      "text/html": [
       "<div>\n",
       "<style scoped>\n",
       "    .dataframe tbody tr th:only-of-type {\n",
       "        vertical-align: middle;\n",
       "    }\n",
       "\n",
       "    .dataframe tbody tr th {\n",
       "        vertical-align: top;\n",
       "    }\n",
       "\n",
       "    .dataframe thead th {\n",
       "        text-align: right;\n",
       "    }\n",
       "</style>\n",
       "<table border=\"1\" class=\"dataframe\">\n",
       "  <thead>\n",
       "    <tr style=\"text-align: right;\">\n",
       "      <th></th>\n",
       "      <th>mean</th>\n",
       "      <th>sum</th>\n",
       "      <th>count</th>\n",
       "    </tr>\n",
       "    <tr>\n",
       "      <th>Destination</th>\n",
       "      <th></th>\n",
       "      <th></th>\n",
       "      <th></th>\n",
       "    </tr>\n",
       "  </thead>\n",
       "  <tbody>\n",
       "    <tr>\n",
       "      <th>55 Cancri e</th>\n",
       "      <td>0.614525</td>\n",
       "      <td>880</td>\n",
       "      <td>1432</td>\n",
       "    </tr>\n",
       "    <tr>\n",
       "      <th>PSO J318.5-22</th>\n",
       "      <td>0.514469</td>\n",
       "      <td>320</td>\n",
       "      <td>622</td>\n",
       "    </tr>\n",
       "    <tr>\n",
       "      <th>TRAPPIST-1e</th>\n",
       "      <td>0.468954</td>\n",
       "      <td>2228</td>\n",
       "      <td>4751</td>\n",
       "    </tr>\n",
       "  </tbody>\n",
       "</table>\n",
       "</div>"
      ],
      "text/plain": [
       "                   mean   sum  count\n",
       "Destination                         \n",
       "55 Cancri e    0.614525   880   1432\n",
       "PSO J318.5-22  0.514469   320    622\n",
       "TRAPPIST-1e    0.468954  2228   4751"
      ]
     },
     "execution_count": 15,
     "metadata": {},
     "output_type": "execute_result"
    }
   ],
   "source": [
    "train.groupby('Destination')[target].agg(['mean', 'sum', 'count'])"
   ]
  },
  {
   "cell_type": "markdown",
   "id": "e041f1df",
   "metadata": {
    "papermill": {
     "duration": 0.009425,
     "end_time": "2024-04-15T01:07:00.065139",
     "exception": false,
     "start_time": "2024-04-15T01:07:00.055714",
     "status": "completed"
    },
    "tags": []
   },
   "source": [
    "# Model"
   ]
  },
  {
   "cell_type": "code",
   "execution_count": 16,
   "id": "5498bed8",
   "metadata": {
    "execution": {
     "iopub.execute_input": "2024-04-15T01:07:00.086841Z",
     "iopub.status.busy": "2024-04-15T01:07:00.086188Z",
     "iopub.status.idle": "2024-04-15T01:07:00.090281Z",
     "shell.execute_reply": "2024-04-15T01:07:00.089510Z"
    },
    "papermill": {
     "duration": 0.017424,
     "end_time": "2024-04-15T01:07:00.092466",
     "exception": false,
     "start_time": "2024-04-15T01:07:00.075042",
     "status": "completed"
    },
    "tags": []
   },
   "outputs": [],
   "source": [
    "from sklearn.base import BaseEstimator, TransformerMixin"
   ]
  },
  {
   "cell_type": "code",
   "execution_count": 17,
   "id": "08b9f1db",
   "metadata": {
    "execution": {
     "iopub.execute_input": "2024-04-15T01:07:00.114148Z",
     "iopub.status.busy": "2024-04-15T01:07:00.113516Z",
     "iopub.status.idle": "2024-04-15T01:07:00.119633Z",
     "shell.execute_reply": "2024-04-15T01:07:00.118440Z"
    },
    "papermill": {
     "duration": 0.020024,
     "end_time": "2024-04-15T01:07:00.122179",
     "exception": false,
     "start_time": "2024-04-15T01:07:00.102155",
     "status": "completed"
    },
    "tags": []
   },
   "outputs": [],
   "source": [
    "class DataSelect(BaseEstimator, TransformerMixin):\n",
    "    def __init__(self, attributes):\n",
    "        self.attributes = attributes\n",
    "    def fit(self, X, y=None):\n",
    "        return self\n",
    "    def transform(self, X, y=None):\n",
    "        return X[self.attributes]"
   ]
  },
  {
   "cell_type": "code",
   "execution_count": 18,
   "id": "fea4dfe9",
   "metadata": {
    "execution": {
     "iopub.execute_input": "2024-04-15T01:07:00.146261Z",
     "iopub.status.busy": "2024-04-15T01:07:00.145838Z",
     "iopub.status.idle": "2024-04-15T01:07:00.335363Z",
     "shell.execute_reply": "2024-04-15T01:07:00.333944Z"
    },
    "papermill": {
     "duration": 0.204963,
     "end_time": "2024-04-15T01:07:00.338306",
     "exception": false,
     "start_time": "2024-04-15T01:07:00.133343",
     "status": "completed"
    },
    "tags": []
   },
   "outputs": [],
   "source": [
    "from sklearn.pipeline import Pipeline, FeatureUnion\n",
    "from sklearn.impute import SimpleImputer\n",
    "from sklearn.preprocessing import StandardScaler, OneHotEncoder"
   ]
  },
  {
   "cell_type": "code",
   "execution_count": 19,
   "id": "f2fc302f",
   "metadata": {
    "execution": {
     "iopub.execute_input": "2024-04-15T01:07:00.360771Z",
     "iopub.status.busy": "2024-04-15T01:07:00.360334Z",
     "iopub.status.idle": "2024-04-15T01:07:00.398465Z",
     "shell.execute_reply": "2024-04-15T01:07:00.397406Z"
    },
    "papermill": {
     "duration": 0.052871,
     "end_time": "2024-04-15T01:07:00.401376",
     "exception": false,
     "start_time": "2024-04-15T01:07:00.348505",
     "status": "completed"
    },
    "tags": []
   },
   "outputs": [],
   "source": [
    "cat_pp = Pipeline([\n",
    "    ('dataselect', DataSelect(['CryoSleep']))\n",
    "#     , ('impute', SimpleImputer(strategy='constant', fill_value='empty'))\n",
    "    , ('encoder', OneHotEncoder(sparse_output=False))\n",
    "])\n",
    "\n",
    "num_pp = Pipeline([\n",
    "    ('dataselect', DataSelect(num))\n",
    "    , ('impute', SimpleImputer(strategy='mean'))\n",
    "    , ('scaler', StandardScaler())\n",
    "])\n",
    "\n",
    "pipe = FeatureUnion([\n",
    "    ('cat', cat_pp)\n",
    "    , ('num', num_pp)\n",
    "])\n",
    "\n",
    "pipe.fit(train)\n",
    "train_pp = pipe.transform(train)\n",
    "test_pp = pipe.transform(test)"
   ]
  },
  {
   "cell_type": "markdown",
   "id": "e9f3c6a1",
   "metadata": {
    "papermill": {
     "duration": 0.009903,
     "end_time": "2024-04-15T01:07:00.421486",
     "exception": false,
     "start_time": "2024-04-15T01:07:00.411583",
     "status": "completed"
    },
    "tags": []
   },
   "source": [
    "# Models"
   ]
  },
  {
   "cell_type": "code",
   "execution_count": null,
   "id": "2ffa8ef2",
   "metadata": {
    "papermill": {
     "duration": 0.009925,
     "end_time": "2024-04-15T01:07:00.441441",
     "exception": false,
     "start_time": "2024-04-15T01:07:00.431516",
     "status": "completed"
    },
    "tags": []
   },
   "outputs": [],
   "source": []
  }
 ],
 "metadata": {
  "kaggle": {
   "accelerator": "none",
   "dataSources": [
    {
     "databundleVersionId": 3220602,
     "sourceId": 34377,
     "sourceType": "competition"
    }
   ],
   "dockerImageVersionId": 30684,
   "isGpuEnabled": false,
   "isInternetEnabled": true,
   "language": "python",
   "sourceType": "notebook"
  },
  "kernelspec": {
   "display_name": "Python 3",
   "language": "python",
   "name": "python3"
  },
  "language_info": {
   "codemirror_mode": {
    "name": "ipython",
    "version": 3
   },
   "file_extension": ".py",
   "mimetype": "text/x-python",
   "name": "python",
   "nbconvert_exporter": "python",
   "pygments_lexer": "ipython3",
   "version": "3.10.13"
  },
  "papermill": {
   "default_parameters": {},
   "duration": 8.175015,
   "end_time": "2024-04-15T01:07:01.075117",
   "environment_variables": {},
   "exception": null,
   "input_path": "__notebook__.ipynb",
   "output_path": "__notebook__.ipynb",
   "parameters": {},
   "start_time": "2024-04-15T01:06:52.900102",
   "version": "2.5.0"
  }
 },
 "nbformat": 4,
 "nbformat_minor": 5
}
